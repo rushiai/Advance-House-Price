{
  "nbformat": 4,
  "nbformat_minor": 0,
  "metadata": {
    "colab": {
      "name": "24/5 YT all text + summary + audio + wrong images + video + we need headline",
      "provenance": [],
      "authorship_tag": "ABX9TyOU1yFjSDrvpAzwUWEV6lkR",
      "include_colab_link": true
    },
    "kernelspec": {
      "name": "python3",
      "display_name": "Python 3"
    },
    "language_info": {
      "name": "python"
    },
    "accelerator": "GPU",
    "widgets": {
      "application/vnd.jupyter.widget-state+json": {
        "a761a468374e483ca2bc06005daf9a7e": {
          "model_module": "@jupyter-widgets/controls",
          "model_name": "HBoxModel",
          "state": {
            "_view_name": "HBoxView",
            "_dom_classes": [],
            "_model_name": "HBoxModel",
            "_view_module": "@jupyter-widgets/controls",
            "_model_module_version": "1.5.0",
            "_view_count": null,
            "_view_module_version": "1.5.0",
            "box_style": "",
            "layout": "IPY_MODEL_19e4d7ab72434c7dac1f67da44062d82",
            "_model_module": "@jupyter-widgets/controls",
            "children": [
              "IPY_MODEL_fe07d22d86704b01a58fe4926b19f9d1",
              "IPY_MODEL_a1a388d35e124f80904f479aa1b35118"
            ]
          }
        },
        "19e4d7ab72434c7dac1f67da44062d82": {
          "model_module": "@jupyter-widgets/base",
          "model_name": "LayoutModel",
          "state": {
            "_view_name": "LayoutView",
            "grid_template_rows": null,
            "right": null,
            "justify_content": null,
            "_view_module": "@jupyter-widgets/base",
            "overflow": null,
            "_model_module_version": "1.2.0",
            "_view_count": null,
            "flex_flow": null,
            "width": null,
            "min_width": null,
            "border": null,
            "align_items": null,
            "bottom": null,
            "_model_module": "@jupyter-widgets/base",
            "top": null,
            "grid_column": null,
            "overflow_y": null,
            "overflow_x": null,
            "grid_auto_flow": null,
            "grid_area": null,
            "grid_template_columns": null,
            "flex": null,
            "_model_name": "LayoutModel",
            "justify_items": null,
            "grid_row": null,
            "max_height": null,
            "align_content": null,
            "visibility": null,
            "align_self": null,
            "height": null,
            "min_height": null,
            "padding": null,
            "grid_auto_rows": null,
            "grid_gap": null,
            "max_width": null,
            "order": null,
            "_view_module_version": "1.2.0",
            "grid_template_areas": null,
            "object_position": null,
            "object_fit": null,
            "grid_auto_columns": null,
            "margin": null,
            "display": null,
            "left": null
          }
        },
        "fe07d22d86704b01a58fe4926b19f9d1": {
          "model_module": "@jupyter-widgets/controls",
          "model_name": "FloatProgressModel",
          "state": {
            "_view_name": "ProgressView",
            "style": "IPY_MODEL_ce9ae3a7221045e08573344218589ff6",
            "_dom_classes": [],
            "description": "Downloading: 100%",
            "_model_name": "FloatProgressModel",
            "bar_style": "success",
            "max": 1649,
            "_view_module": "@jupyter-widgets/controls",
            "_model_module_version": "1.5.0",
            "value": 1649,
            "_view_count": null,
            "_view_module_version": "1.5.0",
            "orientation": "horizontal",
            "min": 0,
            "description_tooltip": null,
            "_model_module": "@jupyter-widgets/controls",
            "layout": "IPY_MODEL_f3d4a2a70812418eb828b181371907e6"
          }
        },
        "a1a388d35e124f80904f479aa1b35118": {
          "model_module": "@jupyter-widgets/controls",
          "model_name": "HTMLModel",
          "state": {
            "_view_name": "HTMLView",
            "style": "IPY_MODEL_606961fda5ae420998846bba9c9686d5",
            "_dom_classes": [],
            "description": "",
            "_model_name": "HTMLModel",
            "placeholder": "​",
            "_view_module": "@jupyter-widgets/controls",
            "_model_module_version": "1.5.0",
            "value": " 1.65k/1.65k [00:00&lt;00:00, 5.49kB/s]",
            "_view_count": null,
            "_view_module_version": "1.5.0",
            "description_tooltip": null,
            "_model_module": "@jupyter-widgets/controls",
            "layout": "IPY_MODEL_e4cf711793244c4f953adf280d91fecf"
          }
        },
        "ce9ae3a7221045e08573344218589ff6": {
          "model_module": "@jupyter-widgets/controls",
          "model_name": "ProgressStyleModel",
          "state": {
            "_view_name": "StyleView",
            "_model_name": "ProgressStyleModel",
            "description_width": "initial",
            "_view_module": "@jupyter-widgets/base",
            "_model_module_version": "1.5.0",
            "_view_count": null,
            "_view_module_version": "1.2.0",
            "bar_color": null,
            "_model_module": "@jupyter-widgets/controls"
          }
        },
        "f3d4a2a70812418eb828b181371907e6": {
          "model_module": "@jupyter-widgets/base",
          "model_name": "LayoutModel",
          "state": {
            "_view_name": "LayoutView",
            "grid_template_rows": null,
            "right": null,
            "justify_content": null,
            "_view_module": "@jupyter-widgets/base",
            "overflow": null,
            "_model_module_version": "1.2.0",
            "_view_count": null,
            "flex_flow": null,
            "width": null,
            "min_width": null,
            "border": null,
            "align_items": null,
            "bottom": null,
            "_model_module": "@jupyter-widgets/base",
            "top": null,
            "grid_column": null,
            "overflow_y": null,
            "overflow_x": null,
            "grid_auto_flow": null,
            "grid_area": null,
            "grid_template_columns": null,
            "flex": null,
            "_model_name": "LayoutModel",
            "justify_items": null,
            "grid_row": null,
            "max_height": null,
            "align_content": null,
            "visibility": null,
            "align_self": null,
            "height": null,
            "min_height": null,
            "padding": null,
            "grid_auto_rows": null,
            "grid_gap": null,
            "max_width": null,
            "order": null,
            "_view_module_version": "1.2.0",
            "grid_template_areas": null,
            "object_position": null,
            "object_fit": null,
            "grid_auto_columns": null,
            "margin": null,
            "display": null,
            "left": null
          }
        },
        "606961fda5ae420998846bba9c9686d5": {
          "model_module": "@jupyter-widgets/controls",
          "model_name": "DescriptionStyleModel",
          "state": {
            "_view_name": "StyleView",
            "_model_name": "DescriptionStyleModel",
            "description_width": "",
            "_view_module": "@jupyter-widgets/base",
            "_model_module_version": "1.5.0",
            "_view_count": null,
            "_view_module_version": "1.2.0",
            "_model_module": "@jupyter-widgets/controls"
          }
        },
        "e4cf711793244c4f953adf280d91fecf": {
          "model_module": "@jupyter-widgets/base",
          "model_name": "LayoutModel",
          "state": {
            "_view_name": "LayoutView",
            "grid_template_rows": null,
            "right": null,
            "justify_content": null,
            "_view_module": "@jupyter-widgets/base",
            "overflow": null,
            "_model_module_version": "1.2.0",
            "_view_count": null,
            "flex_flow": null,
            "width": null,
            "min_width": null,
            "border": null,
            "align_items": null,
            "bottom": null,
            "_model_module": "@jupyter-widgets/base",
            "top": null,
            "grid_column": null,
            "overflow_y": null,
            "overflow_x": null,
            "grid_auto_flow": null,
            "grid_area": null,
            "grid_template_columns": null,
            "flex": null,
            "_model_name": "LayoutModel",
            "justify_items": null,
            "grid_row": null,
            "max_height": null,
            "align_content": null,
            "visibility": null,
            "align_self": null,
            "height": null,
            "min_height": null,
            "padding": null,
            "grid_auto_rows": null,
            "grid_gap": null,
            "max_width": null,
            "order": null,
            "_view_module_version": "1.2.0",
            "grid_template_areas": null,
            "object_position": null,
            "object_fit": null,
            "grid_auto_columns": null,
            "margin": null,
            "display": null,
            "left": null
          }
        },
        "a57d31777218485f9c848b0f2f93fdd7": {
          "model_module": "@jupyter-widgets/controls",
          "model_name": "HBoxModel",
          "state": {
            "_view_name": "HBoxView",
            "_dom_classes": [],
            "_model_name": "HBoxModel",
            "_view_module": "@jupyter-widgets/controls",
            "_model_module_version": "1.5.0",
            "_view_count": null,
            "_view_module_version": "1.5.0",
            "box_style": "",
            "layout": "IPY_MODEL_2043f045415d411498fd68422b8e405f",
            "_model_module": "@jupyter-widgets/controls",
            "children": [
              "IPY_MODEL_d90e084eb0f341098c92eb3522306dca",
              "IPY_MODEL_85b2228b951942e3bf92eb157eb17afb"
            ]
          }
        },
        "2043f045415d411498fd68422b8e405f": {
          "model_module": "@jupyter-widgets/base",
          "model_name": "LayoutModel",
          "state": {
            "_view_name": "LayoutView",
            "grid_template_rows": null,
            "right": null,
            "justify_content": null,
            "_view_module": "@jupyter-widgets/base",
            "overflow": null,
            "_model_module_version": "1.2.0",
            "_view_count": null,
            "flex_flow": null,
            "width": null,
            "min_width": null,
            "border": null,
            "align_items": null,
            "bottom": null,
            "_model_module": "@jupyter-widgets/base",
            "top": null,
            "grid_column": null,
            "overflow_y": null,
            "overflow_x": null,
            "grid_auto_flow": null,
            "grid_area": null,
            "grid_template_columns": null,
            "flex": null,
            "_model_name": "LayoutModel",
            "justify_items": null,
            "grid_row": null,
            "max_height": null,
            "align_content": null,
            "visibility": null,
            "align_self": null,
            "height": null,
            "min_height": null,
            "padding": null,
            "grid_auto_rows": null,
            "grid_gap": null,
            "max_width": null,
            "order": null,
            "_view_module_version": "1.2.0",
            "grid_template_areas": null,
            "object_position": null,
            "object_fit": null,
            "grid_auto_columns": null,
            "margin": null,
            "display": null,
            "left": null
          }
        },
        "d90e084eb0f341098c92eb3522306dca": {
          "model_module": "@jupyter-widgets/controls",
          "model_name": "FloatProgressModel",
          "state": {
            "_view_name": "ProgressView",
            "style": "IPY_MODEL_e24c7cf0df6b49748cfb81b356a3a6fc",
            "_dom_classes": [],
            "description": "Downloading: 100%",
            "_model_name": "FloatProgressModel",
            "bar_style": "success",
            "max": 1222317369,
            "_view_module": "@jupyter-widgets/controls",
            "_model_module_version": "1.5.0",
            "value": 1222317369,
            "_view_count": null,
            "_view_module_version": "1.5.0",
            "orientation": "horizontal",
            "min": 0,
            "description_tooltip": null,
            "_model_module": "@jupyter-widgets/controls",
            "layout": "IPY_MODEL_3665ddacc2be49878ba1a1c6c20b7b12"
          }
        },
        "85b2228b951942e3bf92eb157eb17afb": {
          "model_module": "@jupyter-widgets/controls",
          "model_name": "HTMLModel",
          "state": {
            "_view_name": "HTMLView",
            "style": "IPY_MODEL_7875bf0d867c480491f45ccc1b97bead",
            "_dom_classes": [],
            "description": "",
            "_model_name": "HTMLModel",
            "placeholder": "​",
            "_view_module": "@jupyter-widgets/controls",
            "_model_module_version": "1.5.0",
            "value": " 1.22G/1.22G [00:40&lt;00:00, 30.3MB/s]",
            "_view_count": null,
            "_view_module_version": "1.5.0",
            "description_tooltip": null,
            "_model_module": "@jupyter-widgets/controls",
            "layout": "IPY_MODEL_af5076e02ac244dd9f98d6de4099f42a"
          }
        },
        "e24c7cf0df6b49748cfb81b356a3a6fc": {
          "model_module": "@jupyter-widgets/controls",
          "model_name": "ProgressStyleModel",
          "state": {
            "_view_name": "StyleView",
            "_model_name": "ProgressStyleModel",
            "description_width": "initial",
            "_view_module": "@jupyter-widgets/base",
            "_model_module_version": "1.5.0",
            "_view_count": null,
            "_view_module_version": "1.2.0",
            "bar_color": null,
            "_model_module": "@jupyter-widgets/controls"
          }
        },
        "3665ddacc2be49878ba1a1c6c20b7b12": {
          "model_module": "@jupyter-widgets/base",
          "model_name": "LayoutModel",
          "state": {
            "_view_name": "LayoutView",
            "grid_template_rows": null,
            "right": null,
            "justify_content": null,
            "_view_module": "@jupyter-widgets/base",
            "overflow": null,
            "_model_module_version": "1.2.0",
            "_view_count": null,
            "flex_flow": null,
            "width": null,
            "min_width": null,
            "border": null,
            "align_items": null,
            "bottom": null,
            "_model_module": "@jupyter-widgets/base",
            "top": null,
            "grid_column": null,
            "overflow_y": null,
            "overflow_x": null,
            "grid_auto_flow": null,
            "grid_area": null,
            "grid_template_columns": null,
            "flex": null,
            "_model_name": "LayoutModel",
            "justify_items": null,
            "grid_row": null,
            "max_height": null,
            "align_content": null,
            "visibility": null,
            "align_self": null,
            "height": null,
            "min_height": null,
            "padding": null,
            "grid_auto_rows": null,
            "grid_gap": null,
            "max_width": null,
            "order": null,
            "_view_module_version": "1.2.0",
            "grid_template_areas": null,
            "object_position": null,
            "object_fit": null,
            "grid_auto_columns": null,
            "margin": null,
            "display": null,
            "left": null
          }
        },
        "7875bf0d867c480491f45ccc1b97bead": {
          "model_module": "@jupyter-widgets/controls",
          "model_name": "DescriptionStyleModel",
          "state": {
            "_view_name": "StyleView",
            "_model_name": "DescriptionStyleModel",
            "description_width": "",
            "_view_module": "@jupyter-widgets/base",
            "_model_module_version": "1.5.0",
            "_view_count": null,
            "_view_module_version": "1.2.0",
            "_model_module": "@jupyter-widgets/controls"
          }
        },
        "af5076e02ac244dd9f98d6de4099f42a": {
          "model_module": "@jupyter-widgets/base",
          "model_name": "LayoutModel",
          "state": {
            "_view_name": "LayoutView",
            "grid_template_rows": null,
            "right": null,
            "justify_content": null,
            "_view_module": "@jupyter-widgets/base",
            "overflow": null,
            "_model_module_version": "1.2.0",
            "_view_count": null,
            "flex_flow": null,
            "width": null,
            "min_width": null,
            "border": null,
            "align_items": null,
            "bottom": null,
            "_model_module": "@jupyter-widgets/base",
            "top": null,
            "grid_column": null,
            "overflow_y": null,
            "overflow_x": null,
            "grid_auto_flow": null,
            "grid_area": null,
            "grid_template_columns": null,
            "flex": null,
            "_model_name": "LayoutModel",
            "justify_items": null,
            "grid_row": null,
            "max_height": null,
            "align_content": null,
            "visibility": null,
            "align_self": null,
            "height": null,
            "min_height": null,
            "padding": null,
            "grid_auto_rows": null,
            "grid_gap": null,
            "max_width": null,
            "order": null,
            "_view_module_version": "1.2.0",
            "grid_template_areas": null,
            "object_position": null,
            "object_fit": null,
            "grid_auto_columns": null,
            "margin": null,
            "display": null,
            "left": null
          }
        },
        "81c5fa965d814449b90c46a3cbc5ec46": {
          "model_module": "@jupyter-widgets/controls",
          "model_name": "HBoxModel",
          "state": {
            "_view_name": "HBoxView",
            "_dom_classes": [],
            "_model_name": "HBoxModel",
            "_view_module": "@jupyter-widgets/controls",
            "_model_module_version": "1.5.0",
            "_view_count": null,
            "_view_module_version": "1.5.0",
            "box_style": "",
            "layout": "IPY_MODEL_71f82102e2ef41579f04a1032a89fc1f",
            "_model_module": "@jupyter-widgets/controls",
            "children": [
              "IPY_MODEL_cca544bc8b4d48b9be924dc1e3cfb968",
              "IPY_MODEL_23c0223eada648889181b94e0f81ae6c"
            ]
          }
        },
        "71f82102e2ef41579f04a1032a89fc1f": {
          "model_module": "@jupyter-widgets/base",
          "model_name": "LayoutModel",
          "state": {
            "_view_name": "LayoutView",
            "grid_template_rows": null,
            "right": null,
            "justify_content": null,
            "_view_module": "@jupyter-widgets/base",
            "overflow": null,
            "_model_module_version": "1.2.0",
            "_view_count": null,
            "flex_flow": null,
            "width": null,
            "min_width": null,
            "border": null,
            "align_items": null,
            "bottom": null,
            "_model_module": "@jupyter-widgets/base",
            "top": null,
            "grid_column": null,
            "overflow_y": null,
            "overflow_x": null,
            "grid_auto_flow": null,
            "grid_area": null,
            "grid_template_columns": null,
            "flex": null,
            "_model_name": "LayoutModel",
            "justify_items": null,
            "grid_row": null,
            "max_height": null,
            "align_content": null,
            "visibility": null,
            "align_self": null,
            "height": null,
            "min_height": null,
            "padding": null,
            "grid_auto_rows": null,
            "grid_gap": null,
            "max_width": null,
            "order": null,
            "_view_module_version": "1.2.0",
            "grid_template_areas": null,
            "object_position": null,
            "object_fit": null,
            "grid_auto_columns": null,
            "margin": null,
            "display": null,
            "left": null
          }
        },
        "cca544bc8b4d48b9be924dc1e3cfb968": {
          "model_module": "@jupyter-widgets/controls",
          "model_name": "FloatProgressModel",
          "state": {
            "_view_name": "ProgressView",
            "style": "IPY_MODEL_420f1c0e8bfc4e45b3f90bdd5b48e54c",
            "_dom_classes": [],
            "description": "Downloading: 100%",
            "_model_name": "FloatProgressModel",
            "bar_style": "success",
            "max": 898822,
            "_view_module": "@jupyter-widgets/controls",
            "_model_module_version": "1.5.0",
            "value": 898822,
            "_view_count": null,
            "_view_module_version": "1.5.0",
            "orientation": "horizontal",
            "min": 0,
            "description_tooltip": null,
            "_model_module": "@jupyter-widgets/controls",
            "layout": "IPY_MODEL_38fc9082e7a7425c82abfd4cfd605fc3"
          }
        },
        "23c0223eada648889181b94e0f81ae6c": {
          "model_module": "@jupyter-widgets/controls",
          "model_name": "HTMLModel",
          "state": {
            "_view_name": "HTMLView",
            "style": "IPY_MODEL_1b1420c42f6246e3a065eae308d744c9",
            "_dom_classes": [],
            "description": "",
            "_model_name": "HTMLModel",
            "placeholder": "​",
            "_view_module": "@jupyter-widgets/controls",
            "_model_module_version": "1.5.0",
            "value": " 899k/899k [00:01&lt;00:00, 868kB/s]",
            "_view_count": null,
            "_view_module_version": "1.5.0",
            "description_tooltip": null,
            "_model_module": "@jupyter-widgets/controls",
            "layout": "IPY_MODEL_600227c81ae6422ca8a8678865b1e294"
          }
        },
        "420f1c0e8bfc4e45b3f90bdd5b48e54c": {
          "model_module": "@jupyter-widgets/controls",
          "model_name": "ProgressStyleModel",
          "state": {
            "_view_name": "StyleView",
            "_model_name": "ProgressStyleModel",
            "description_width": "initial",
            "_view_module": "@jupyter-widgets/base",
            "_model_module_version": "1.5.0",
            "_view_count": null,
            "_view_module_version": "1.2.0",
            "bar_color": null,
            "_model_module": "@jupyter-widgets/controls"
          }
        },
        "38fc9082e7a7425c82abfd4cfd605fc3": {
          "model_module": "@jupyter-widgets/base",
          "model_name": "LayoutModel",
          "state": {
            "_view_name": "LayoutView",
            "grid_template_rows": null,
            "right": null,
            "justify_content": null,
            "_view_module": "@jupyter-widgets/base",
            "overflow": null,
            "_model_module_version": "1.2.0",
            "_view_count": null,
            "flex_flow": null,
            "width": null,
            "min_width": null,
            "border": null,
            "align_items": null,
            "bottom": null,
            "_model_module": "@jupyter-widgets/base",
            "top": null,
            "grid_column": null,
            "overflow_y": null,
            "overflow_x": null,
            "grid_auto_flow": null,
            "grid_area": null,
            "grid_template_columns": null,
            "flex": null,
            "_model_name": "LayoutModel",
            "justify_items": null,
            "grid_row": null,
            "max_height": null,
            "align_content": null,
            "visibility": null,
            "align_self": null,
            "height": null,
            "min_height": null,
            "padding": null,
            "grid_auto_rows": null,
            "grid_gap": null,
            "max_width": null,
            "order": null,
            "_view_module_version": "1.2.0",
            "grid_template_areas": null,
            "object_position": null,
            "object_fit": null,
            "grid_auto_columns": null,
            "margin": null,
            "display": null,
            "left": null
          }
        },
        "1b1420c42f6246e3a065eae308d744c9": {
          "model_module": "@jupyter-widgets/controls",
          "model_name": "DescriptionStyleModel",
          "state": {
            "_view_name": "StyleView",
            "_model_name": "DescriptionStyleModel",
            "description_width": "",
            "_view_module": "@jupyter-widgets/base",
            "_model_module_version": "1.5.0",
            "_view_count": null,
            "_view_module_version": "1.2.0",
            "_model_module": "@jupyter-widgets/controls"
          }
        },
        "600227c81ae6422ca8a8678865b1e294": {
          "model_module": "@jupyter-widgets/base",
          "model_name": "LayoutModel",
          "state": {
            "_view_name": "LayoutView",
            "grid_template_rows": null,
            "right": null,
            "justify_content": null,
            "_view_module": "@jupyter-widgets/base",
            "overflow": null,
            "_model_module_version": "1.2.0",
            "_view_count": null,
            "flex_flow": null,
            "width": null,
            "min_width": null,
            "border": null,
            "align_items": null,
            "bottom": null,
            "_model_module": "@jupyter-widgets/base",
            "top": null,
            "grid_column": null,
            "overflow_y": null,
            "overflow_x": null,
            "grid_auto_flow": null,
            "grid_area": null,
            "grid_template_columns": null,
            "flex": null,
            "_model_name": "LayoutModel",
            "justify_items": null,
            "grid_row": null,
            "max_height": null,
            "align_content": null,
            "visibility": null,
            "align_self": null,
            "height": null,
            "min_height": null,
            "padding": null,
            "grid_auto_rows": null,
            "grid_gap": null,
            "max_width": null,
            "order": null,
            "_view_module_version": "1.2.0",
            "grid_template_areas": null,
            "object_position": null,
            "object_fit": null,
            "grid_auto_columns": null,
            "margin": null,
            "display": null,
            "left": null
          }
        },
        "983ebc13d82045bbb753204427cd4939": {
          "model_module": "@jupyter-widgets/controls",
          "model_name": "HBoxModel",
          "state": {
            "_view_name": "HBoxView",
            "_dom_classes": [],
            "_model_name": "HBoxModel",
            "_view_module": "@jupyter-widgets/controls",
            "_model_module_version": "1.5.0",
            "_view_count": null,
            "_view_module_version": "1.5.0",
            "box_style": "",
            "layout": "IPY_MODEL_b8ea049ca1ef47c6aed462f2dfe4cd32",
            "_model_module": "@jupyter-widgets/controls",
            "children": [
              "IPY_MODEL_f2bfd082910e420f88a6993152016801",
              "IPY_MODEL_53446b0decf948c5a1249b82684cc1d8"
            ]
          }
        },
        "b8ea049ca1ef47c6aed462f2dfe4cd32": {
          "model_module": "@jupyter-widgets/base",
          "model_name": "LayoutModel",
          "state": {
            "_view_name": "LayoutView",
            "grid_template_rows": null,
            "right": null,
            "justify_content": null,
            "_view_module": "@jupyter-widgets/base",
            "overflow": null,
            "_model_module_version": "1.2.0",
            "_view_count": null,
            "flex_flow": null,
            "width": null,
            "min_width": null,
            "border": null,
            "align_items": null,
            "bottom": null,
            "_model_module": "@jupyter-widgets/base",
            "top": null,
            "grid_column": null,
            "overflow_y": null,
            "overflow_x": null,
            "grid_auto_flow": null,
            "grid_area": null,
            "grid_template_columns": null,
            "flex": null,
            "_model_name": "LayoutModel",
            "justify_items": null,
            "grid_row": null,
            "max_height": null,
            "align_content": null,
            "visibility": null,
            "align_self": null,
            "height": null,
            "min_height": null,
            "padding": null,
            "grid_auto_rows": null,
            "grid_gap": null,
            "max_width": null,
            "order": null,
            "_view_module_version": "1.2.0",
            "grid_template_areas": null,
            "object_position": null,
            "object_fit": null,
            "grid_auto_columns": null,
            "margin": null,
            "display": null,
            "left": null
          }
        },
        "f2bfd082910e420f88a6993152016801": {
          "model_module": "@jupyter-widgets/controls",
          "model_name": "FloatProgressModel",
          "state": {
            "_view_name": "ProgressView",
            "style": "IPY_MODEL_c48e878235a24010b309f3c65fdaab2c",
            "_dom_classes": [],
            "description": "Downloading: 100%",
            "_model_name": "FloatProgressModel",
            "bar_style": "success",
            "max": 456318,
            "_view_module": "@jupyter-widgets/controls",
            "_model_module_version": "1.5.0",
            "value": 456318,
            "_view_count": null,
            "_view_module_version": "1.5.0",
            "orientation": "horizontal",
            "min": 0,
            "description_tooltip": null,
            "_model_module": "@jupyter-widgets/controls",
            "layout": "IPY_MODEL_743e2207dfc746b0a2f9ca3fbf4a0a11"
          }
        },
        "53446b0decf948c5a1249b82684cc1d8": {
          "model_module": "@jupyter-widgets/controls",
          "model_name": "HTMLModel",
          "state": {
            "_view_name": "HTMLView",
            "style": "IPY_MODEL_9151b040a83e471ea2430681120d75b4",
            "_dom_classes": [],
            "description": "",
            "_model_name": "HTMLModel",
            "placeholder": "​",
            "_view_module": "@jupyter-widgets/controls",
            "_model_module_version": "1.5.0",
            "value": " 456k/456k [00:18&lt;00:00, 24.4kB/s]",
            "_view_count": null,
            "_view_module_version": "1.5.0",
            "description_tooltip": null,
            "_model_module": "@jupyter-widgets/controls",
            "layout": "IPY_MODEL_d8a1e1d06a81420ca5e731cc91e1a98b"
          }
        },
        "c48e878235a24010b309f3c65fdaab2c": {
          "model_module": "@jupyter-widgets/controls",
          "model_name": "ProgressStyleModel",
          "state": {
            "_view_name": "StyleView",
            "_model_name": "ProgressStyleModel",
            "description_width": "initial",
            "_view_module": "@jupyter-widgets/base",
            "_model_module_version": "1.5.0",
            "_view_count": null,
            "_view_module_version": "1.2.0",
            "bar_color": null,
            "_model_module": "@jupyter-widgets/controls"
          }
        },
        "743e2207dfc746b0a2f9ca3fbf4a0a11": {
          "model_module": "@jupyter-widgets/base",
          "model_name": "LayoutModel",
          "state": {
            "_view_name": "LayoutView",
            "grid_template_rows": null,
            "right": null,
            "justify_content": null,
            "_view_module": "@jupyter-widgets/base",
            "overflow": null,
            "_model_module_version": "1.2.0",
            "_view_count": null,
            "flex_flow": null,
            "width": null,
            "min_width": null,
            "border": null,
            "align_items": null,
            "bottom": null,
            "_model_module": "@jupyter-widgets/base",
            "top": null,
            "grid_column": null,
            "overflow_y": null,
            "overflow_x": null,
            "grid_auto_flow": null,
            "grid_area": null,
            "grid_template_columns": null,
            "flex": null,
            "_model_name": "LayoutModel",
            "justify_items": null,
            "grid_row": null,
            "max_height": null,
            "align_content": null,
            "visibility": null,
            "align_self": null,
            "height": null,
            "min_height": null,
            "padding": null,
            "grid_auto_rows": null,
            "grid_gap": null,
            "max_width": null,
            "order": null,
            "_view_module_version": "1.2.0",
            "grid_template_areas": null,
            "object_position": null,
            "object_fit": null,
            "grid_auto_columns": null,
            "margin": null,
            "display": null,
            "left": null
          }
        },
        "9151b040a83e471ea2430681120d75b4": {
          "model_module": "@jupyter-widgets/controls",
          "model_name": "DescriptionStyleModel",
          "state": {
            "_view_name": "StyleView",
            "_model_name": "DescriptionStyleModel",
            "description_width": "",
            "_view_module": "@jupyter-widgets/base",
            "_model_module_version": "1.5.0",
            "_view_count": null,
            "_view_module_version": "1.2.0",
            "_model_module": "@jupyter-widgets/controls"
          }
        },
        "d8a1e1d06a81420ca5e731cc91e1a98b": {
          "model_module": "@jupyter-widgets/base",
          "model_name": "LayoutModel",
          "state": {
            "_view_name": "LayoutView",
            "grid_template_rows": null,
            "right": null,
            "justify_content": null,
            "_view_module": "@jupyter-widgets/base",
            "overflow": null,
            "_model_module_version": "1.2.0",
            "_view_count": null,
            "flex_flow": null,
            "width": null,
            "min_width": null,
            "border": null,
            "align_items": null,
            "bottom": null,
            "_model_module": "@jupyter-widgets/base",
            "top": null,
            "grid_column": null,
            "overflow_y": null,
            "overflow_x": null,
            "grid_auto_flow": null,
            "grid_area": null,
            "grid_template_columns": null,
            "flex": null,
            "_model_name": "LayoutModel",
            "justify_items": null,
            "grid_row": null,
            "max_height": null,
            "align_content": null,
            "visibility": null,
            "align_self": null,
            "height": null,
            "min_height": null,
            "padding": null,
            "grid_auto_rows": null,
            "grid_gap": null,
            "max_width": null,
            "order": null,
            "_view_module_version": "1.2.0",
            "grid_template_areas": null,
            "object_position": null,
            "object_fit": null,
            "grid_auto_columns": null,
            "margin": null,
            "display": null,
            "left": null
          }
        },
        "b0c30bcf2f134cb8a538f8920b9b00b7": {
          "model_module": "@jupyter-widgets/controls",
          "model_name": "HBoxModel",
          "state": {
            "_view_name": "HBoxView",
            "_dom_classes": [],
            "_model_name": "HBoxModel",
            "_view_module": "@jupyter-widgets/controls",
            "_model_module_version": "1.5.0",
            "_view_count": null,
            "_view_module_version": "1.5.0",
            "box_style": "",
            "layout": "IPY_MODEL_d3b034ce9bed412fb8c0a86db5725be0",
            "_model_module": "@jupyter-widgets/controls",
            "children": [
              "IPY_MODEL_865596377002478db647747e8977045b",
              "IPY_MODEL_dd3f00e20d094a75ac0240770afe303d"
            ]
          }
        },
        "d3b034ce9bed412fb8c0a86db5725be0": {
          "model_module": "@jupyter-widgets/base",
          "model_name": "LayoutModel",
          "state": {
            "_view_name": "LayoutView",
            "grid_template_rows": null,
            "right": null,
            "justify_content": null,
            "_view_module": "@jupyter-widgets/base",
            "overflow": null,
            "_model_module_version": "1.2.0",
            "_view_count": null,
            "flex_flow": null,
            "width": null,
            "min_width": null,
            "border": null,
            "align_items": null,
            "bottom": null,
            "_model_module": "@jupyter-widgets/base",
            "top": null,
            "grid_column": null,
            "overflow_y": null,
            "overflow_x": null,
            "grid_auto_flow": null,
            "grid_area": null,
            "grid_template_columns": null,
            "flex": null,
            "_model_name": "LayoutModel",
            "justify_items": null,
            "grid_row": null,
            "max_height": null,
            "align_content": null,
            "visibility": null,
            "align_self": null,
            "height": null,
            "min_height": null,
            "padding": null,
            "grid_auto_rows": null,
            "grid_gap": null,
            "max_width": null,
            "order": null,
            "_view_module_version": "1.2.0",
            "grid_template_areas": null,
            "object_position": null,
            "object_fit": null,
            "grid_auto_columns": null,
            "margin": null,
            "display": null,
            "left": null
          }
        },
        "865596377002478db647747e8977045b": {
          "model_module": "@jupyter-widgets/controls",
          "model_name": "FloatProgressModel",
          "state": {
            "_view_name": "ProgressView",
            "style": "IPY_MODEL_e0e3d68c53dd47bca573c0aa50ffeffa",
            "_dom_classes": [],
            "description": "Downloading: 100%",
            "_model_name": "FloatProgressModel",
            "bar_style": "success",
            "max": 26,
            "_view_module": "@jupyter-widgets/controls",
            "_model_module_version": "1.5.0",
            "value": 26,
            "_view_count": null,
            "_view_module_version": "1.5.0",
            "orientation": "horizontal",
            "min": 0,
            "description_tooltip": null,
            "_model_module": "@jupyter-widgets/controls",
            "layout": "IPY_MODEL_9e3f242c9aef4ca4914156ab62bfe07c"
          }
        },
        "dd3f00e20d094a75ac0240770afe303d": {
          "model_module": "@jupyter-widgets/controls",
          "model_name": "HTMLModel",
          "state": {
            "_view_name": "HTMLView",
            "style": "IPY_MODEL_194a3e9520124bbe821ad847ee71adda",
            "_dom_classes": [],
            "description": "",
            "_model_name": "HTMLModel",
            "placeholder": "​",
            "_view_module": "@jupyter-widgets/controls",
            "_model_module_version": "1.5.0",
            "value": " 26.0/26.0 [00:00&lt;00:00, 214B/s]",
            "_view_count": null,
            "_view_module_version": "1.5.0",
            "description_tooltip": null,
            "_model_module": "@jupyter-widgets/controls",
            "layout": "IPY_MODEL_aa1e08786e5c4fb99fd0fbda761d4a06"
          }
        },
        "e0e3d68c53dd47bca573c0aa50ffeffa": {
          "model_module": "@jupyter-widgets/controls",
          "model_name": "ProgressStyleModel",
          "state": {
            "_view_name": "StyleView",
            "_model_name": "ProgressStyleModel",
            "description_width": "initial",
            "_view_module": "@jupyter-widgets/base",
            "_model_module_version": "1.5.0",
            "_view_count": null,
            "_view_module_version": "1.2.0",
            "bar_color": null,
            "_model_module": "@jupyter-widgets/controls"
          }
        },
        "9e3f242c9aef4ca4914156ab62bfe07c": {
          "model_module": "@jupyter-widgets/base",
          "model_name": "LayoutModel",
          "state": {
            "_view_name": "LayoutView",
            "grid_template_rows": null,
            "right": null,
            "justify_content": null,
            "_view_module": "@jupyter-widgets/base",
            "overflow": null,
            "_model_module_version": "1.2.0",
            "_view_count": null,
            "flex_flow": null,
            "width": null,
            "min_width": null,
            "border": null,
            "align_items": null,
            "bottom": null,
            "_model_module": "@jupyter-widgets/base",
            "top": null,
            "grid_column": null,
            "overflow_y": null,
            "overflow_x": null,
            "grid_auto_flow": null,
            "grid_area": null,
            "grid_template_columns": null,
            "flex": null,
            "_model_name": "LayoutModel",
            "justify_items": null,
            "grid_row": null,
            "max_height": null,
            "align_content": null,
            "visibility": null,
            "align_self": null,
            "height": null,
            "min_height": null,
            "padding": null,
            "grid_auto_rows": null,
            "grid_gap": null,
            "max_width": null,
            "order": null,
            "_view_module_version": "1.2.0",
            "grid_template_areas": null,
            "object_position": null,
            "object_fit": null,
            "grid_auto_columns": null,
            "margin": null,
            "display": null,
            "left": null
          }
        },
        "194a3e9520124bbe821ad847ee71adda": {
          "model_module": "@jupyter-widgets/controls",
          "model_name": "DescriptionStyleModel",
          "state": {
            "_view_name": "StyleView",
            "_model_name": "DescriptionStyleModel",
            "description_width": "",
            "_view_module": "@jupyter-widgets/base",
            "_model_module_version": "1.5.0",
            "_view_count": null,
            "_view_module_version": "1.2.0",
            "_model_module": "@jupyter-widgets/controls"
          }
        },
        "aa1e08786e5c4fb99fd0fbda761d4a06": {
          "model_module": "@jupyter-widgets/base",
          "model_name": "LayoutModel",
          "state": {
            "_view_name": "LayoutView",
            "grid_template_rows": null,
            "right": null,
            "justify_content": null,
            "_view_module": "@jupyter-widgets/base",
            "overflow": null,
            "_model_module_version": "1.2.0",
            "_view_count": null,
            "flex_flow": null,
            "width": null,
            "min_width": null,
            "border": null,
            "align_items": null,
            "bottom": null,
            "_model_module": "@jupyter-widgets/base",
            "top": null,
            "grid_column": null,
            "overflow_y": null,
            "overflow_x": null,
            "grid_auto_flow": null,
            "grid_area": null,
            "grid_template_columns": null,
            "flex": null,
            "_model_name": "LayoutModel",
            "justify_items": null,
            "grid_row": null,
            "max_height": null,
            "align_content": null,
            "visibility": null,
            "align_self": null,
            "height": null,
            "min_height": null,
            "padding": null,
            "grid_auto_rows": null,
            "grid_gap": null,
            "max_width": null,
            "order": null,
            "_view_module_version": "1.2.0",
            "grid_template_areas": null,
            "object_position": null,
            "object_fit": null,
            "grid_auto_columns": null,
            "margin": null,
            "display": null,
            "left": null
          }
        }
      }
    }
  },
  "cells": [
    {
      "cell_type": "markdown",
      "metadata": {
        "id": "view-in-github",
        "colab_type": "text"
      },
      "source": [
        "<a href=\"https://colab.research.google.com/github/rushiai/Advance-House-Price/blob/main/24_5_YT_all_text_%2B_summary_%2B_audio_%2B_wrong_images_%2B_video_%2B_we_need_headline.ipynb\" target=\"_parent\"><img src=\"https://colab.research.google.com/assets/colab-badge.svg\" alt=\"Open In Colab\"/></a>"
      ]
    },
    {
      "cell_type": "code",
      "metadata": {
        "colab": {
          "base_uri": "https://localhost:8080/",
          "height": 1000
        },
        "id": "Jk_Hgz4qrdmZ",
        "outputId": "f74443cf-18c5-4edc-911b-b7fa7b2c119d"
      },
      "source": [
        "import os\n",
        "!git clone https://github.com/TensorSpeech/TensorFlowTTS\n",
        "os.chdir(\"TensorFlowTTS\")\n",
        "!pip install  .\n",
        "os.chdir(\"..\")\n",
        "import sys\n",
        "sys.path.append(\"TensorFlowTTS/\")\n",
        "print(\"Downloading Tacotron2 model...\")\n",
        "!gdown --id {\"12jvEO1VqFo1ocrgY9GUHF_kVcLn3QaGW\"} -O tacotron2-120k.h5\n",
        "!gdown --id {\"1OI86hkN1YCpHBsIKnkELNbSho5Pj-pPY\"} -O tacotron2_config.yml\n",
        "print(\"Downloading MelGAN-STFT model...\")\n",
        "!gdown --id {\"1WB5iQbk9qB-Y-wO8BU6S2TnRiu4VU5ys\"} -O melgan.stft-2M.h5\n",
        "!gdown --id {\"1OqdrcHJvtXwNasEZP7KXZwtGUDXMKNkg\"} -O melgan.stft_config.yml\n",
        "print(\"Downloading MelGAN model...\")\n",
        "!gdown --id {\"1A3zJwzlXEpu_jHeatlMdyPGjn1V7-9iG\"} -O melgan-1M6.h5\n",
        "!gdown --id {\"1Ys-twSd3m2uqhJOEiobNox6RNQf4txZs\"} -O melgan_config.yml\n",
        "import tensorflow as tf\n",
        "\n",
        "import yaml\n",
        "import numpy as np\n",
        "import matplotlib.pyplot as plt\n",
        "\n",
        "import IPython.display as ipd\n",
        "\n",
        "from tensorflow_tts.inference import TFAutoModel\n",
        "from tensorflow_tts.inference import AutoConfig\n",
        "from tensorflow_tts.inference import AutoProcessor\n",
        "\n",
        "tacotron2_config = AutoConfig.from_pretrained('TensorFlowTTS/examples/tacotron2/conf/tacotron2.v1.yaml')\n",
        "tacotron2 = TFAutoModel.from_pretrained(\n",
        "    config=tacotron2_config,\n",
        "    pretrained_path=\"tacotron2-120k.h5\",\n",
        "    name=\"tacotron2\"\n",
        ")\n",
        "\n",
        "melgan_config = AutoConfig.from_pretrained('TensorFlowTTS/examples/melgan/conf/melgan.v1.yaml')\n",
        "melgan = TFAutoModel.from_pretrained(\n",
        "    config=melgan_config,\n",
        "    pretrained_path=\"melgan-1M6.h5\",\n",
        "    name=\"melgan\"\n",
        ")\n",
        "\n",
        "melgan_stft_config = AutoConfig.from_pretrained('TensorFlowTTS/examples/melgan_stft/conf/melgan_stft.v1.yaml')\n",
        "melgan_stft = TFAutoModel.from_pretrained(\n",
        "    config=melgan_stft_config,\n",
        "    pretrained_path=\"melgan.stft-2M.h5\",\n",
        "    name=\"melgan_stft\"\n",
        ")\n",
        "\n",
        "print(\"Downloading ljspeech_mapper.json ...\")\n",
        "!gdown --id {\"1YBaDdMlhTXxsKrH7mZwDu-2aODq5fr5e\"} -O ljspeech_mapper.json\n",
        "\n",
        "processor = AutoProcessor.from_pretrained(pretrained_path=\"./ljspeech_mapper.json\")\n",
        "\n",
        "def do_synthesis(input_text, text2mel_model, vocoder_model, text2mel_name, vocoder_name):\n",
        "  input_ids = processor.text_to_sequence(input_text)\n",
        "\n",
        "  # text2mel part\n",
        "  if text2mel_name == \"TACOTRON\":\n",
        "    _, mel_outputs, stop_token_prediction, alignment_history = text2mel_model.inference(\n",
        "        tf.expand_dims(tf.convert_to_tensor(input_ids, dtype=tf.int32), 0),\n",
        "        tf.convert_to_tensor([len(input_ids)], tf.int32),\n",
        "        tf.convert_to_tensor([0], dtype=tf.int32)\n",
        "    )\n",
        "  elif text2mel_name == \"FASTSPEECH\":\n",
        "    mel_before, mel_outputs, duration_outputs = text2mel_model.inference(\n",
        "        input_ids=tf.expand_dims(tf.convert_to_tensor(input_ids, dtype=tf.int32), 0),\n",
        "        speaker_ids=tf.convert_to_tensor([0], dtype=tf.int32),\n",
        "        speed_ratios=tf.convert_to_tensor([1.0], dtype=tf.float32),\n",
        "    )\n",
        "  elif text2mel_name == \"FASTSPEECH2\":\n",
        "    mel_before, mel_outputs, duration_outputs, _, _ = text2mel_model.inference(\n",
        "        tf.expand_dims(tf.convert_to_tensor(input_ids, dtype=tf.int32), 0),\n",
        "        speaker_ids=tf.convert_to_tensor([0], dtype=tf.int32),\n",
        "        speed_ratios=tf.convert_to_tensor([1.0], dtype=tf.float32),\n",
        "        f0_ratios=tf.convert_to_tensor([1.0], dtype=tf.float32),\n",
        "        energy_ratios=tf.convert_to_tensor([1.0], dtype=tf.float32),\n",
        "    )\n",
        "  else:\n",
        "    raise ValueError(\"Only TACOTRON, FASTSPEECH, FASTSPEECH2 are supported on text2mel_name\")\n",
        "\n",
        "  # vocoder part\n",
        "  if vocoder_name == \"MELGAN\" or vocoder_name == \"MELGAN-STFT\":\n",
        "    audio = vocoder_model(mel_outputs)[0, :, 0]\n",
        "  elif vocoder_name == \"MB-MELGAN\":\n",
        "    audio = vocoder_model(mel_outputs)[0, :, 0]\n",
        "  else:\n",
        "    raise ValueError(\"Only MELGAN, MELGAN-STFT and MB_MELGAN are supported on vocoder_name\")\n",
        "\n",
        "  if text2mel_name == \"TACOTRON\":\n",
        "    return mel_outputs.numpy(), alignment_history.numpy(), audio.numpy()\n",
        "  else:\n",
        "    return mel_outputs.numpy(), audio.numpy()\n",
        "\n",
        "def visualize_attention(alignment_history):\n",
        "  import matplotlib.pyplot as plt\n",
        "\n",
        "  fig = plt.figure(figsize=(8, 6))\n",
        "  ax = fig.add_subplot(111)\n",
        "  ax.set_title(f'Alignment steps')\n",
        "  im = ax.imshow(\n",
        "      alignment_history,\n",
        "      aspect='auto',\n",
        "      origin='lower',\n",
        "      interpolation='none')\n",
        "  fig.colorbar(im, ax=ax)\n",
        "  xlabel = 'Decoder timestep'\n",
        "  plt.xlabel(xlabel)\n",
        "  plt.ylabel('Encoder timestep')\n",
        "  plt.tight_layout()\n",
        "#   plt.show()\n",
        "  plt.close()\n",
        "\n",
        "def visualize_mel_spectrogram(mels):\n",
        "  mels = tf.reshape(mels, [-1, 80]).numpy()\n",
        "  fig = plt.figure(figsize=(10, 8))\n",
        "  ax1 = fig.add_subplot(311)\n",
        "  ax1.set_title(f'Predicted Mel-after-Spectrogram')\n",
        "  im = ax1.imshow(np.rot90(mels), aspect='auto', interpolation='none')\n",
        "  fig.colorbar(mappable=im, shrink=0.65, orientation='horizontal', ax=ax1)\n",
        "#   plt.show()\n",
        "  plt.close()"
      ],
      "execution_count": 1,
      "outputs": [
        {
          "output_type": "stream",
          "text": [
            "Cloning into 'TensorFlowTTS'...\n",
            "remote: Enumerating objects: 10380, done.\u001b[K\n",
            "remote: Counting objects: 100% (90/90), done.\u001b[K\n",
            "remote: Compressing objects: 100% (73/73), done.\u001b[K\n",
            "remote: Total 10380 (delta 43), reused 42 (delta 17), pack-reused 10290\u001b[K\n",
            "Receiving objects: 100% (10380/10380), 131.44 MiB | 24.81 MiB/s, done.\n",
            "Resolving deltas: 100% (4983/4983), done.\n",
            "Processing /content/TensorFlowTTS\n",
            "Collecting tensorflow-gpu==2.3.1\n",
            "\u001b[?25l  Downloading https://files.pythonhosted.org/packages/4f/3c/f70e7545e6e41e8be0228526af1f3a0d3bd434d8e30ca8e08a673b0ffe6c/tensorflow_gpu-2.3.1-cp37-cp37m-manylinux2010_x86_64.whl (320.4MB)\n",
            "\u001b[K     |████████████████████████████████| 320.4MB 47kB/s \n",
            "\u001b[?25hCollecting tensorflow-addons>=0.10.0\n",
            "\u001b[?25l  Downloading https://files.pythonhosted.org/packages/66/4b/e893d194e626c24b3df2253066aa418f46a432fdb68250cde14bf9bb0700/tensorflow_addons-0.13.0-cp37-cp37m-manylinux2010_x86_64.whl (679kB)\n",
            "\u001b[K     |████████████████████████████████| 686kB 30.6MB/s \n",
            "\u001b[?25hRequirement already satisfied: setuptools>=38.5.1 in /usr/local/lib/python3.7/dist-packages (from TensorFlowTTS==0.0) (56.1.0)\n",
            "Collecting huggingface_hub==0.0.8\n",
            "  Downloading https://files.pythonhosted.org/packages/a1/88/7b1e45720ecf59c6c6737ff332f41c955963090a18e72acbcbeac6b25e86/huggingface_hub-0.0.8-py3-none-any.whl\n",
            "Requirement already satisfied: librosa>=0.7.0 in /usr/local/lib/python3.7/dist-packages (from TensorFlowTTS==0.0) (0.8.0)\n",
            "Requirement already satisfied: soundfile>=0.10.2 in /usr/local/lib/python3.7/dist-packages (from TensorFlowTTS==0.0) (0.10.3.post1)\n",
            "Requirement already satisfied: matplotlib>=3.1.0 in /usr/local/lib/python3.7/dist-packages (from TensorFlowTTS==0.0) (3.2.2)\n",
            "Requirement already satisfied: PyYAML>=3.12 in /usr/local/lib/python3.7/dist-packages (from TensorFlowTTS==0.0) (3.13)\n",
            "Requirement already satisfied: tqdm>=4.26.1 in /usr/local/lib/python3.7/dist-packages (from TensorFlowTTS==0.0) (4.41.1)\n",
            "Requirement already satisfied: h5py>=2.10.0 in /usr/local/lib/python3.7/dist-packages (from TensorFlowTTS==0.0) (2.10.0)\n",
            "Collecting unidecode>=1.1.1\n",
            "\u001b[?25l  Downloading https://files.pythonhosted.org/packages/9e/25/723487ca2a52ebcee88a34d7d1f5a4b80b793f179ee0f62d5371938dfa01/Unidecode-1.2.0-py2.py3-none-any.whl (241kB)\n",
            "\u001b[K     |████████████████████████████████| 245kB 40.9MB/s \n",
            "\u001b[?25hCollecting inflect>=4.1.0\n",
            "  Downloading https://files.pythonhosted.org/packages/4f/a8/031641ad73a1bd1a9932261a6193864556172b333dde263fed8b5a0940cf/inflect-5.3.0-py3-none-any.whl\n",
            "Requirement already satisfied: scikit-learn>=0.22.0 in /usr/local/lib/python3.7/dist-packages (from TensorFlowTTS==0.0) (0.22.2.post1)\n",
            "Collecting pyworld>=0.2.10\n",
            "\u001b[?25l  Downloading https://files.pythonhosted.org/packages/af/88/003eef396c966cf00088900167831946b80b8e7650843905cb9590c2d9ca/pyworld-0.2.12.tar.gz (222kB)\n",
            "\u001b[K     |████████████████████████████████| 225kB 39.1MB/s \n",
            "\u001b[?25hCollecting numba<=0.48\n",
            "\u001b[?25l  Downloading https://files.pythonhosted.org/packages/39/dc/5ce4a94d98e8a31cab21b150e23ca2f09a7dd354c06a69f71801ecd890db/numba-0.48.0-1-cp37-cp37m-manylinux2014_x86_64.whl (3.5MB)\n",
            "\u001b[K     |████████████████████████████████| 3.6MB 29.2MB/s \n",
            "\u001b[?25hCollecting jamo>=0.4.1\n",
            "  Downloading https://files.pythonhosted.org/packages/ac/cc/49812faae67f9a24be6ddaf58a2cf7e8c3cbfcf5b762d9414f7103d2ea2c/jamo-0.4.1-py3-none-any.whl\n",
            "Collecting pypinyin\n",
            "\u001b[?25l  Downloading https://files.pythonhosted.org/packages/fc/41/26c0efdabac41a519c78dafa0d0983bb26aafe19f26acdc9c5343c7f435f/pypinyin-0.41.0-py2.py3-none-any.whl (1.3MB)\n",
            "\u001b[K     |████████████████████████████████| 1.3MB 29.3MB/s \n",
            "\u001b[?25hCollecting g2pM\n",
            "\u001b[?25l  Downloading https://files.pythonhosted.org/packages/af/21/dc5b497f09a94a9605e0b8a94ad0e01ae73a2b65109bf5bd325b0814b6a8/g2pM-0.1.2.5-py3-none-any.whl (1.7MB)\n",
            "\u001b[K     |████████████████████████████████| 1.7MB 19.5MB/s \n",
            "\u001b[?25hCollecting textgrid\n",
            "  Downloading https://files.pythonhosted.org/packages/9f/9e/04fb27ec5ac287b203afd5b228bc7c4ec5b7d3d81c4422d57847e755b0cc/TextGrid-1.5-py3-none-any.whl\n",
            "Requirement already satisfied: click in /usr/local/lib/python3.7/dist-packages (from TensorFlowTTS==0.0) (8.0.0)\n",
            "Collecting g2p_en\n",
            "\u001b[?25l  Downloading https://files.pythonhosted.org/packages/d7/d9/b77dc634a7a0c0c97716ba97dd0a28cbfa6267c96f359c4f27ed71cbd284/g2p_en-2.1.0-py3-none-any.whl (3.1MB)\n",
            "\u001b[K     |████████████████████████████████| 3.1MB 26.5MB/s \n",
            "\u001b[?25hCollecting dataclasses\n",
            "  Downloading https://files.pythonhosted.org/packages/26/2f/1095cdc2868052dd1e64520f7c0d5c8c550ad297e944e641dbf1ffbb9a5d/dataclasses-0.6-py3-none-any.whl\n",
            "Collecting german_transliterate@ git+https://github.com/repodiac/german_transliterate.git#egg=german_transliterate\n",
            "  Cloning https://github.com/repodiac/german_transliterate.git to /tmp/pip-install-kypb6roq/german-transliterate\n",
            "  Running command git clone -q https://github.com/repodiac/german_transliterate.git /tmp/pip-install-kypb6roq/german-transliterate\n",
            "Requirement already satisfied: wrapt>=1.11.1 in /usr/local/lib/python3.7/dist-packages (from tensorflow-gpu==2.3.1->TensorFlowTTS==0.0) (1.12.1)\n",
            "Collecting numpy<1.19.0,>=1.16.0\n",
            "\u001b[?25l  Downloading https://files.pythonhosted.org/packages/d6/c6/58e517e8b1fb192725cfa23c01c2e60e4e6699314ee9684a1c5f5c9b27e1/numpy-1.18.5-cp37-cp37m-manylinux1_x86_64.whl (20.1MB)\n",
            "\u001b[K     |████████████████████████████████| 20.1MB 7.2MB/s \n",
            "\u001b[?25hRequirement already satisfied: six>=1.12.0 in /usr/local/lib/python3.7/dist-packages (from tensorflow-gpu==2.3.1->TensorFlowTTS==0.0) (1.15.0)\n",
            "Requirement already satisfied: astunparse==1.6.3 in /usr/local/lib/python3.7/dist-packages (from tensorflow-gpu==2.3.1->TensorFlowTTS==0.0) (1.6.3)\n",
            "Requirement already satisfied: grpcio>=1.8.6 in /usr/local/lib/python3.7/dist-packages (from tensorflow-gpu==2.3.1->TensorFlowTTS==0.0) (1.32.0)\n",
            "Requirement already satisfied: protobuf>=3.9.2 in /usr/local/lib/python3.7/dist-packages (from tensorflow-gpu==2.3.1->TensorFlowTTS==0.0) (3.12.4)\n",
            "Collecting tensorflow-estimator<2.4.0,>=2.3.0\n",
            "\u001b[?25l  Downloading https://files.pythonhosted.org/packages/e9/ed/5853ec0ae380cba4588eab1524e18ece1583b65f7ae0e97321f5ff9dfd60/tensorflow_estimator-2.3.0-py2.py3-none-any.whl (459kB)\n",
            "\u001b[K     |████████████████████████████████| 460kB 42.7MB/s \n",
            "\u001b[?25hRequirement already satisfied: tensorboard<3,>=2.3.0 in /usr/local/lib/python3.7/dist-packages (from tensorflow-gpu==2.3.1->TensorFlowTTS==0.0) (2.4.1)\n",
            "Requirement already satisfied: wheel>=0.26 in /usr/local/lib/python3.7/dist-packages (from tensorflow-gpu==2.3.1->TensorFlowTTS==0.0) (0.36.2)\n",
            "Requirement already satisfied: google-pasta>=0.1.8 in /usr/local/lib/python3.7/dist-packages (from tensorflow-gpu==2.3.1->TensorFlowTTS==0.0) (0.2.0)\n",
            "Requirement already satisfied: opt-einsum>=2.3.2 in /usr/local/lib/python3.7/dist-packages (from tensorflow-gpu==2.3.1->TensorFlowTTS==0.0) (3.3.0)\n",
            "Requirement already satisfied: gast==0.3.3 in /usr/local/lib/python3.7/dist-packages (from tensorflow-gpu==2.3.1->TensorFlowTTS==0.0) (0.3.3)\n",
            "Requirement already satisfied: termcolor>=1.1.0 in /usr/local/lib/python3.7/dist-packages (from tensorflow-gpu==2.3.1->TensorFlowTTS==0.0) (1.1.0)\n",
            "Requirement already satisfied: keras-preprocessing<1.2,>=1.1.1 in /usr/local/lib/python3.7/dist-packages (from tensorflow-gpu==2.3.1->TensorFlowTTS==0.0) (1.1.2)\n",
            "Requirement already satisfied: absl-py>=0.7.0 in /usr/local/lib/python3.7/dist-packages (from tensorflow-gpu==2.3.1->TensorFlowTTS==0.0) (0.12.0)\n",
            "Requirement already satisfied: typeguard>=2.7 in /usr/local/lib/python3.7/dist-packages (from tensorflow-addons>=0.10.0->TensorFlowTTS==0.0) (2.7.1)\n",
            "Requirement already satisfied: importlib-metadata; python_version < \"3.8\" in /usr/local/lib/python3.7/dist-packages (from huggingface_hub==0.0.8->TensorFlowTTS==0.0) (4.0.1)\n",
            "Requirement already satisfied: filelock in /usr/local/lib/python3.7/dist-packages (from huggingface_hub==0.0.8->TensorFlowTTS==0.0) (3.0.12)\n",
            "Requirement already satisfied: requests in /usr/local/lib/python3.7/dist-packages (from huggingface_hub==0.0.8->TensorFlowTTS==0.0) (2.23.0)\n",
            "Requirement already satisfied: joblib>=0.14 in /usr/local/lib/python3.7/dist-packages (from librosa>=0.7.0->TensorFlowTTS==0.0) (1.0.1)\n",
            "Requirement already satisfied: pooch>=1.0 in /usr/local/lib/python3.7/dist-packages (from librosa>=0.7.0->TensorFlowTTS==0.0) (1.3.0)\n",
            "Requirement already satisfied: audioread>=2.0.0 in /usr/local/lib/python3.7/dist-packages (from librosa>=0.7.0->TensorFlowTTS==0.0) (2.1.9)\n",
            "Requirement already satisfied: resampy>=0.2.2 in /usr/local/lib/python3.7/dist-packages (from librosa>=0.7.0->TensorFlowTTS==0.0) (0.2.2)\n",
            "Requirement already satisfied: decorator>=3.0.0 in /usr/local/lib/python3.7/dist-packages (from librosa>=0.7.0->TensorFlowTTS==0.0) (4.4.2)\n",
            "Requirement already satisfied: scipy>=1.0.0 in /usr/local/lib/python3.7/dist-packages (from librosa>=0.7.0->TensorFlowTTS==0.0) (1.4.1)\n",
            "Requirement already satisfied: cffi>=1.0 in /usr/local/lib/python3.7/dist-packages (from soundfile>=0.10.2->TensorFlowTTS==0.0) (1.14.5)\n",
            "Requirement already satisfied: kiwisolver>=1.0.1 in /usr/local/lib/python3.7/dist-packages (from matplotlib>=3.1.0->TensorFlowTTS==0.0) (1.3.1)\n",
            "Requirement already satisfied: cycler>=0.10 in /usr/local/lib/python3.7/dist-packages (from matplotlib>=3.1.0->TensorFlowTTS==0.0) (0.10.0)\n",
            "Requirement already satisfied: pyparsing!=2.0.4,!=2.1.2,!=2.1.6,>=2.0.1 in /usr/local/lib/python3.7/dist-packages (from matplotlib>=3.1.0->TensorFlowTTS==0.0) (2.4.7)\n",
            "Requirement already satisfied: python-dateutil>=2.1 in /usr/local/lib/python3.7/dist-packages (from matplotlib>=3.1.0->TensorFlowTTS==0.0) (2.8.1)\n",
            "Requirement already satisfied: cython>=0.24.0 in /usr/local/lib/python3.7/dist-packages (from pyworld>=0.2.10->TensorFlowTTS==0.0) (0.29.23)\n",
            "Collecting llvmlite<0.32.0,>=0.31.0dev0\n",
            "\u001b[?25l  Downloading https://files.pythonhosted.org/packages/a0/10/d02c0ac683fc47ecda3426249509cf771d748b6a2c0e9d5ebbee76a7b80a/llvmlite-0.31.0-cp37-cp37m-manylinux1_x86_64.whl (20.2MB)\n",
            "\u001b[K     |████████████████████████████████| 20.2MB 97kB/s \n",
            "\u001b[?25hRequirement already satisfied: nltk>=3.2.4 in /usr/local/lib/python3.7/dist-packages (from g2p_en->TensorFlowTTS==0.0) (3.2.5)\n",
            "Collecting distance>=0.1.3\n",
            "\u001b[?25l  Downloading https://files.pythonhosted.org/packages/5c/1a/883e47df323437aefa0d0a92ccfb38895d9416bd0b56262c2e46a47767b8/Distance-0.1.3.tar.gz (180kB)\n",
            "\u001b[K     |████████████████████████████████| 184kB 42.3MB/s \n",
            "\u001b[?25hCollecting num2words\n",
            "\u001b[?25l  Downloading https://files.pythonhosted.org/packages/eb/a2/ea800689730732e27711c41beed4b2a129b34974435bdc450377ec407738/num2words-0.5.10-py3-none-any.whl (101kB)\n",
            "\u001b[K     |████████████████████████████████| 102kB 11.2MB/s \n",
            "\u001b[?25hRequirement already satisfied: werkzeug>=0.11.15 in /usr/local/lib/python3.7/dist-packages (from tensorboard<3,>=2.3.0->tensorflow-gpu==2.3.1->TensorFlowTTS==0.0) (2.0.0)\n",
            "Requirement already satisfied: markdown>=2.6.8 in /usr/local/lib/python3.7/dist-packages (from tensorboard<3,>=2.3.0->tensorflow-gpu==2.3.1->TensorFlowTTS==0.0) (3.3.4)\n",
            "Requirement already satisfied: google-auth-oauthlib<0.5,>=0.4.1 in /usr/local/lib/python3.7/dist-packages (from tensorboard<3,>=2.3.0->tensorflow-gpu==2.3.1->TensorFlowTTS==0.0) (0.4.4)\n",
            "Requirement already satisfied: google-auth<2,>=1.6.3 in /usr/local/lib/python3.7/dist-packages (from tensorboard<3,>=2.3.0->tensorflow-gpu==2.3.1->TensorFlowTTS==0.0) (1.30.0)\n",
            "Requirement already satisfied: tensorboard-plugin-wit>=1.6.0 in /usr/local/lib/python3.7/dist-packages (from tensorboard<3,>=2.3.0->tensorflow-gpu==2.3.1->TensorFlowTTS==0.0) (1.8.0)\n",
            "Requirement already satisfied: typing-extensions>=3.6.4; python_version < \"3.8\" in /usr/local/lib/python3.7/dist-packages (from importlib-metadata; python_version < \"3.8\"->huggingface_hub==0.0.8->TensorFlowTTS==0.0) (3.7.4.3)\n",
            "Requirement already satisfied: zipp>=0.5 in /usr/local/lib/python3.7/dist-packages (from importlib-metadata; python_version < \"3.8\"->huggingface_hub==0.0.8->TensorFlowTTS==0.0) (3.4.1)\n",
            "Requirement already satisfied: certifi>=2017.4.17 in /usr/local/lib/python3.7/dist-packages (from requests->huggingface_hub==0.0.8->TensorFlowTTS==0.0) (2020.12.5)\n",
            "Requirement already satisfied: idna<3,>=2.5 in /usr/local/lib/python3.7/dist-packages (from requests->huggingface_hub==0.0.8->TensorFlowTTS==0.0) (2.10)\n",
            "Requirement already satisfied: urllib3!=1.25.0,!=1.25.1,<1.26,>=1.21.1 in /usr/local/lib/python3.7/dist-packages (from requests->huggingface_hub==0.0.8->TensorFlowTTS==0.0) (1.24.3)\n",
            "Requirement already satisfied: chardet<4,>=3.0.2 in /usr/local/lib/python3.7/dist-packages (from requests->huggingface_hub==0.0.8->TensorFlowTTS==0.0) (3.0.4)\n",
            "Requirement already satisfied: appdirs in /usr/local/lib/python3.7/dist-packages (from pooch>=1.0->librosa>=0.7.0->TensorFlowTTS==0.0) (1.4.4)\n",
            "Requirement already satisfied: packaging in /usr/local/lib/python3.7/dist-packages (from pooch>=1.0->librosa>=0.7.0->TensorFlowTTS==0.0) (20.9)\n",
            "Requirement already satisfied: pycparser in /usr/local/lib/python3.7/dist-packages (from cffi>=1.0->soundfile>=0.10.2->TensorFlowTTS==0.0) (2.20)\n",
            "Requirement already satisfied: docopt>=0.6.2 in /usr/local/lib/python3.7/dist-packages (from num2words->german_transliterate@ git+https://github.com/repodiac/german_transliterate.git#egg=german_transliterate->TensorFlowTTS==0.0) (0.6.2)\n",
            "Requirement already satisfied: requests-oauthlib>=0.7.0 in /usr/local/lib/python3.7/dist-packages (from google-auth-oauthlib<0.5,>=0.4.1->tensorboard<3,>=2.3.0->tensorflow-gpu==2.3.1->TensorFlowTTS==0.0) (1.3.0)\n",
            "Requirement already satisfied: pyasn1-modules>=0.2.1 in /usr/local/lib/python3.7/dist-packages (from google-auth<2,>=1.6.3->tensorboard<3,>=2.3.0->tensorflow-gpu==2.3.1->TensorFlowTTS==0.0) (0.2.8)\n",
            "Requirement already satisfied: cachetools<5.0,>=2.0.0 in /usr/local/lib/python3.7/dist-packages (from google-auth<2,>=1.6.3->tensorboard<3,>=2.3.0->tensorflow-gpu==2.3.1->TensorFlowTTS==0.0) (4.2.2)\n",
            "Requirement already satisfied: rsa<5,>=3.1.4; python_version >= \"3.6\" in /usr/local/lib/python3.7/dist-packages (from google-auth<2,>=1.6.3->tensorboard<3,>=2.3.0->tensorflow-gpu==2.3.1->TensorFlowTTS==0.0) (4.7.2)\n",
            "Requirement already satisfied: oauthlib>=3.0.0 in /usr/local/lib/python3.7/dist-packages (from requests-oauthlib>=0.7.0->google-auth-oauthlib<0.5,>=0.4.1->tensorboard<3,>=2.3.0->tensorflow-gpu==2.3.1->TensorFlowTTS==0.0) (3.1.0)\n",
            "Requirement already satisfied: pyasn1<0.5.0,>=0.4.6 in /usr/local/lib/python3.7/dist-packages (from pyasn1-modules>=0.2.1->google-auth<2,>=1.6.3->tensorboard<3,>=2.3.0->tensorflow-gpu==2.3.1->TensorFlowTTS==0.0) (0.4.8)\n",
            "Building wheels for collected packages: TensorFlowTTS, pyworld, german-transliterate, distance\n",
            "  Building wheel for TensorFlowTTS (setup.py) ... \u001b[?25l\u001b[?25hdone\n",
            "  Created wheel for TensorFlowTTS: filename=TensorFlowTTS-0.0-cp37-none-any.whl size=126062 sha256=2737c576241fbc5b1f73b8c63edf4fefc9f0656f92b6a4f199dbf558e8f82869\n",
            "  Stored in directory: /tmp/pip-ephem-wheel-cache-n_fagcpo/wheels/53/fa/a5/6da6cd434ed077f9027135e4143d7acc9e07a34e6aaebcf476\n",
            "  Building wheel for pyworld (setup.py) ... \u001b[?25l\u001b[?25hdone\n",
            "  Created wheel for pyworld: filename=pyworld-0.2.12-cp37-cp37m-linux_x86_64.whl size=610488 sha256=8bc2b009b95dfc71c12fa70df0c1f44c821de79e43323babbe5a1b2e1e39c0d6\n",
            "  Stored in directory: /root/.cache/pip/wheels/d0/e4/1c/a508000462b83164d5eba9a4b46f39b4b1645ac952bbe71551\n",
            "  Building wheel for german-transliterate (setup.py) ... \u001b[?25l\u001b[?25hdone\n",
            "  Created wheel for german-transliterate: filename=german_transliterate-0.1.3-cp37-none-any.whl size=20815 sha256=4c34f17f5b33303d076b5fced52980814a96534856cf3ac3e0c32d138f6dd7d3\n",
            "  Stored in directory: /tmp/pip-ephem-wheel-cache-n_fagcpo/wheels/84/8c/e6/55d277f27aa532ede9709de9da37ceddb00941285379cb1bc4\n",
            "  Building wheel for distance (setup.py) ... \u001b[?25l\u001b[?25hdone\n",
            "  Created wheel for distance: filename=Distance-0.1.3-cp37-none-any.whl size=16261 sha256=dc93afcae527d9548fd55346ae16ec8f5b44471e7c9262d80b4e6d8eb20cd82d\n",
            "  Stored in directory: /root/.cache/pip/wheels/d5/aa/e1/dbba9e7b6d397d645d0f12db1c66dbae9c5442b39b001db18e\n",
            "Successfully built TensorFlowTTS pyworld german-transliterate distance\n",
            "\u001b[31mERROR: tensorflow 2.4.1 has requirement numpy~=1.19.2, but you'll have numpy 1.18.5 which is incompatible.\u001b[0m\n",
            "\u001b[31mERROR: tensorflow 2.4.1 has requirement tensorflow-estimator<2.5.0,>=2.4.0, but you'll have tensorflow-estimator 2.3.0 which is incompatible.\u001b[0m\n",
            "\u001b[31mERROR: datascience 0.10.6 has requirement folium==0.2.1, but you'll have folium 0.8.3 which is incompatible.\u001b[0m\n",
            "\u001b[31mERROR: albumentations 0.1.12 has requirement imgaug<0.2.7,>=0.2.5, but you'll have imgaug 0.2.9 which is incompatible.\u001b[0m\n",
            "Installing collected packages: numpy, tensorflow-estimator, tensorflow-gpu, tensorflow-addons, huggingface-hub, unidecode, inflect, pyworld, llvmlite, numba, jamo, pypinyin, g2pM, textgrid, distance, g2p-en, dataclasses, num2words, german-transliterate, TensorFlowTTS\n",
            "  Found existing installation: numpy 1.19.5\n",
            "    Uninstalling numpy-1.19.5:\n",
            "      Successfully uninstalled numpy-1.19.5\n",
            "  Found existing installation: tensorflow-estimator 2.4.0\n",
            "    Uninstalling tensorflow-estimator-2.4.0:\n",
            "      Successfully uninstalled tensorflow-estimator-2.4.0\n",
            "  Found existing installation: inflect 2.1.0\n",
            "    Uninstalling inflect-2.1.0:\n",
            "      Successfully uninstalled inflect-2.1.0\n",
            "  Found existing installation: llvmlite 0.34.0\n",
            "    Uninstalling llvmlite-0.34.0:\n",
            "      Successfully uninstalled llvmlite-0.34.0\n",
            "  Found existing installation: numba 0.51.2\n",
            "    Uninstalling numba-0.51.2:\n",
            "      Successfully uninstalled numba-0.51.2\n",
            "Successfully installed TensorFlowTTS-0.0 dataclasses-0.6 distance-0.1.3 g2p-en-2.1.0 g2pM-0.1.2.5 german-transliterate-0.1.3 huggingface-hub-0.0.8 inflect-5.3.0 jamo-0.4.1 llvmlite-0.31.0 num2words-0.5.10 numba-0.48.0 numpy-1.18.5 pypinyin-0.41.0 pyworld-0.2.12 tensorflow-addons-0.13.0 tensorflow-estimator-2.3.0 tensorflow-gpu-2.3.1 textgrid-1.5 unidecode-1.2.0\n"
          ],
          "name": "stdout"
        },
        {
          "output_type": "display_data",
          "data": {
            "application/vnd.colab-display-data+json": {
              "pip_warning": {
                "packages": [
                  "numpy"
                ]
              }
            }
          },
          "metadata": {
            "tags": []
          }
        },
        {
          "output_type": "stream",
          "text": [
            "Downloading Tacotron2 model...\n",
            "Downloading...\n",
            "From: https://drive.google.com/uc?id=12jvEO1VqFo1ocrgY9GUHF_kVcLn3QaGW\n",
            "To: /content/tacotron2-120k.h5\n",
            "128MB [00:01, 89.3MB/s]\n",
            "Downloading...\n",
            "From: https://drive.google.com/uc?id=1OI86hkN1YCpHBsIKnkELNbSho5Pj-pPY\n",
            "To: /content/tacotron2_config.yml\n",
            "100% 1.49k/1.49k [00:00<00:00, 4.32MB/s]\n",
            "Downloading MelGAN-STFT model...\n",
            "Downloading...\n",
            "From: https://drive.google.com/uc?id=1WB5iQbk9qB-Y-wO8BU6S2TnRiu4VU5ys\n",
            "To: /content/melgan.stft-2M.h5\n",
            "17.1MB [00:00, 47.0MB/s]\n",
            "Downloading...\n",
            "From: https://drive.google.com/uc?id=1OqdrcHJvtXwNasEZP7KXZwtGUDXMKNkg\n",
            "To: /content/melgan.stft_config.yml\n",
            "100% 1.77k/1.77k [00:00<00:00, 2.72MB/s]\n",
            "Downloading MelGAN model...\n",
            "Downloading...\n",
            "From: https://drive.google.com/uc?id=1A3zJwzlXEpu_jHeatlMdyPGjn1V7-9iG\n",
            "To: /content/melgan-1M6.h5\n",
            "17.1MB [00:00, 41.3MB/s]\n",
            "Downloading...\n",
            "From: https://drive.google.com/uc?id=1Ys-twSd3m2uqhJOEiobNox6RNQf4txZs\n",
            "To: /content/melgan_config.yml\n",
            "100% 1.29k/1.29k [00:00<00:00, 1.10MB/s]\n",
            "[nltk_data] Downloading package averaged_perceptron_tagger to\n",
            "[nltk_data]     /root/nltk_data...\n",
            "[nltk_data]   Unzipping taggers/averaged_perceptron_tagger.zip.\n",
            "[nltk_data] Downloading package cmudict to /root/nltk_data...\n",
            "[nltk_data]   Unzipping corpora/cmudict.zip.\n",
            "Downloading ljspeech_mapper.json ...\n",
            "Downloading...\n",
            "From: https://drive.google.com/uc?id=1YBaDdMlhTXxsKrH7mZwDu-2aODq5fr5e\n",
            "To: /content/ljspeech_mapper.json\n",
            "100% 3.57k/3.57k [00:00<00:00, 6.18MB/s]\n"
          ],
          "name": "stdout"
        }
      ]
    },
    {
      "cell_type": "code",
      "metadata": {
        "id": "y7pQbAGO5rm8"
      },
      "source": [
        "!apt update &> /dev/null\n",
        "!apt install imagemagick &> /dev/null\n",
        "!apt install ffmpeg &> /dev/null\n",
        "!pip3 install moviepy[optional] &> /dev/null\n",
        "!sed -i '/<policy domain=\"path\" rights=\"none\" pattern=\"@\\*\"/d' /etc/ImageMagick-6/policy.xml"
      ],
      "execution_count": 2,
      "outputs": []
    },
    {
      "cell_type": "code",
      "metadata": {
        "colab": {
          "base_uri": "https://localhost:8080/"
        },
        "id": "XpSPgCnerdkZ",
        "outputId": "d3f4241b-a04e-43b0-f575-176cdfae599f"
      },
      "source": [
        "!pip install transformers\n",
        "!pip install newspaper3k\n",
        "!pip install kora -q\n",
        "from kora.selenium import wd\n",
        "import nltk\n",
        "nltk.download('punkt')"
      ],
      "execution_count": 3,
      "outputs": [
        {
          "output_type": "stream",
          "text": [
            "Collecting transformers\n",
            "\u001b[?25l  Downloading https://files.pythonhosted.org/packages/d5/43/cfe4ee779bbd6a678ac6a97c5a5cdeb03c35f9eaebbb9720b036680f9a2d/transformers-4.6.1-py3-none-any.whl (2.2MB)\n",
            "\u001b[K     |████████████████████████████████| 2.3MB 10.9MB/s \n",
            "\u001b[?25hRequirement already satisfied: huggingface-hub==0.0.8 in /usr/local/lib/python3.7/dist-packages (from transformers) (0.0.8)\n",
            "Requirement already satisfied: filelock in /usr/local/lib/python3.7/dist-packages (from transformers) (3.0.12)\n",
            "Requirement already satisfied: packaging in /usr/local/lib/python3.7/dist-packages (from transformers) (20.9)\n",
            "Requirement already satisfied: requests in /usr/local/lib/python3.7/dist-packages (from transformers) (2.23.0)\n",
            "Requirement already satisfied: tqdm>=4.27 in /usr/local/lib/python3.7/dist-packages (from transformers) (4.41.1)\n",
            "Collecting sacremoses\n",
            "\u001b[?25l  Downloading https://files.pythonhosted.org/packages/75/ee/67241dc87f266093c533a2d4d3d69438e57d7a90abb216fa076e7d475d4a/sacremoses-0.0.45-py3-none-any.whl (895kB)\n",
            "\u001b[K     |████████████████████████████████| 901kB 36.4MB/s \n",
            "\u001b[?25hRequirement already satisfied: regex!=2019.12.17 in /usr/local/lib/python3.7/dist-packages (from transformers) (2019.12.20)\n",
            "Requirement already satisfied: numpy>=1.17 in /usr/local/lib/python3.7/dist-packages (from transformers) (1.18.5)\n",
            "Requirement already satisfied: importlib-metadata; python_version < \"3.8\" in /usr/local/lib/python3.7/dist-packages (from transformers) (4.0.1)\n",
            "Collecting tokenizers<0.11,>=0.10.1\n",
            "\u001b[?25l  Downloading https://files.pythonhosted.org/packages/ae/04/5b870f26a858552025a62f1649c20d29d2672c02ff3c3fb4c688ca46467a/tokenizers-0.10.2-cp37-cp37m-manylinux2010_x86_64.whl (3.3MB)\n",
            "\u001b[K     |████████████████████████████████| 3.3MB 34.8MB/s \n",
            "\u001b[?25hRequirement already satisfied: pyparsing>=2.0.2 in /usr/local/lib/python3.7/dist-packages (from packaging->transformers) (2.4.7)\n",
            "Requirement already satisfied: certifi>=2017.4.17 in /usr/local/lib/python3.7/dist-packages (from requests->transformers) (2020.12.5)\n",
            "Requirement already satisfied: urllib3!=1.25.0,!=1.25.1,<1.26,>=1.21.1 in /usr/local/lib/python3.7/dist-packages (from requests->transformers) (1.24.3)\n",
            "Requirement already satisfied: chardet<4,>=3.0.2 in /usr/local/lib/python3.7/dist-packages (from requests->transformers) (3.0.4)\n",
            "Requirement already satisfied: idna<3,>=2.5 in /usr/local/lib/python3.7/dist-packages (from requests->transformers) (2.10)\n",
            "Requirement already satisfied: six in /usr/local/lib/python3.7/dist-packages (from sacremoses->transformers) (1.15.0)\n",
            "Requirement already satisfied: joblib in /usr/local/lib/python3.7/dist-packages (from sacremoses->transformers) (1.0.1)\n",
            "Requirement already satisfied: click in /usr/local/lib/python3.7/dist-packages (from sacremoses->transformers) (8.0.0)\n",
            "Requirement already satisfied: typing-extensions>=3.6.4; python_version < \"3.8\" in /usr/local/lib/python3.7/dist-packages (from importlib-metadata; python_version < \"3.8\"->transformers) (3.7.4.3)\n",
            "Requirement already satisfied: zipp>=0.5 in /usr/local/lib/python3.7/dist-packages (from importlib-metadata; python_version < \"3.8\"->transformers) (3.4.1)\n",
            "Installing collected packages: sacremoses, tokenizers, transformers\n",
            "Successfully installed sacremoses-0.0.45 tokenizers-0.10.2 transformers-4.6.1\n",
            "Collecting newspaper3k\n",
            "\u001b[?25l  Downloading https://files.pythonhosted.org/packages/d7/b9/51afecb35bb61b188a4b44868001de348a0e8134b4dfa00ffc191567c4b9/newspaper3k-0.2.8-py3-none-any.whl (211kB)\n",
            "\u001b[K     |████████████████████████████████| 215kB 9.5MB/s \n",
            "\u001b[?25hRequirement already satisfied: nltk>=3.2.1 in /usr/local/lib/python3.7/dist-packages (from newspaper3k) (3.2.5)\n",
            "Collecting tldextract>=2.0.1\n",
            "\u001b[?25l  Downloading https://files.pythonhosted.org/packages/7e/62/b6acd3129c5615b9860e670df07fd55b76175b63e6b7f68282c7cad38e9e/tldextract-3.1.0-py2.py3-none-any.whl (87kB)\n",
            "\u001b[K     |████████████████████████████████| 92kB 8.0MB/s \n",
            "\u001b[?25hCollecting feedparser>=5.2.1\n",
            "\u001b[?25l  Downloading https://files.pythonhosted.org/packages/1c/21/faf1bac028662cc8adb2b5ef7a6f3999a765baa2835331df365289b0ca56/feedparser-6.0.2-py3-none-any.whl (80kB)\n",
            "\u001b[K     |████████████████████████████████| 81kB 8.7MB/s \n",
            "\u001b[?25hRequirement already satisfied: beautifulsoup4>=4.4.1 in /usr/local/lib/python3.7/dist-packages (from newspaper3k) (4.6.3)\n",
            "Collecting feedfinder2>=0.0.4\n",
            "  Downloading https://files.pythonhosted.org/packages/35/82/1251fefec3bb4b03fd966c7e7f7a41c9fc2bb00d823a34c13f847fd61406/feedfinder2-0.0.4.tar.gz\n",
            "Collecting jieba3k>=0.35.1\n",
            "\u001b[?25l  Downloading https://files.pythonhosted.org/packages/a9/cb/2c8332bcdc14d33b0bedd18ae0a4981a069c3513e445120da3c3f23a8aaa/jieba3k-0.35.1.zip (7.4MB)\n",
            "\u001b[K     |████████████████████████████████| 7.4MB 10.0MB/s \n",
            "\u001b[?25hCollecting tinysegmenter==0.3\n",
            "  Downloading https://files.pythonhosted.org/packages/17/82/86982e4b6d16e4febc79c2a1d68ee3b707e8a020c5d2bc4af8052d0f136a/tinysegmenter-0.3.tar.gz\n",
            "Requirement already satisfied: requests>=2.10.0 in /usr/local/lib/python3.7/dist-packages (from newspaper3k) (2.23.0)\n",
            "Requirement already satisfied: lxml>=3.6.0 in /usr/local/lib/python3.7/dist-packages (from newspaper3k) (4.2.6)\n",
            "Requirement already satisfied: Pillow>=3.3.0 in /usr/local/lib/python3.7/dist-packages (from newspaper3k) (7.1.2)\n",
            "Requirement already satisfied: python-dateutil>=2.5.3 in /usr/local/lib/python3.7/dist-packages (from newspaper3k) (2.8.1)\n",
            "Requirement already satisfied: PyYAML>=3.11 in /usr/local/lib/python3.7/dist-packages (from newspaper3k) (3.13)\n",
            "Collecting cssselect>=0.9.2\n",
            "  Downloading https://files.pythonhosted.org/packages/3b/d4/3b5c17f00cce85b9a1e6f91096e1cc8e8ede2e1be8e96b87ce1ed09e92c5/cssselect-1.1.0-py2.py3-none-any.whl\n",
            "Requirement already satisfied: six in /usr/local/lib/python3.7/dist-packages (from nltk>=3.2.1->newspaper3k) (1.15.0)\n",
            "Requirement already satisfied: idna in /usr/local/lib/python3.7/dist-packages (from tldextract>=2.0.1->newspaper3k) (2.10)\n",
            "Requirement already satisfied: filelock>=3.0.8 in /usr/local/lib/python3.7/dist-packages (from tldextract>=2.0.1->newspaper3k) (3.0.12)\n",
            "Collecting requests-file>=1.4\n",
            "  Downloading https://files.pythonhosted.org/packages/77/86/cdb5e8eaed90796aa83a6d9f75cfbd37af553c47a291cd47bc410ef9bdb2/requests_file-1.5.1-py2.py3-none-any.whl\n",
            "Collecting sgmllib3k\n",
            "  Downloading https://files.pythonhosted.org/packages/9e/bd/3704a8c3e0942d711c1299ebf7b9091930adae6675d7c8f476a7ce48653c/sgmllib3k-1.0.0.tar.gz\n",
            "Requirement already satisfied: certifi>=2017.4.17 in /usr/local/lib/python3.7/dist-packages (from requests>=2.10.0->newspaper3k) (2020.12.5)\n",
            "Requirement already satisfied: urllib3!=1.25.0,!=1.25.1,<1.26,>=1.21.1 in /usr/local/lib/python3.7/dist-packages (from requests>=2.10.0->newspaper3k) (1.24.3)\n",
            "Requirement already satisfied: chardet<4,>=3.0.2 in /usr/local/lib/python3.7/dist-packages (from requests>=2.10.0->newspaper3k) (3.0.4)\n",
            "Building wheels for collected packages: feedfinder2, jieba3k, tinysegmenter, sgmllib3k\n",
            "  Building wheel for feedfinder2 (setup.py) ... \u001b[?25l\u001b[?25hdone\n",
            "  Created wheel for feedfinder2: filename=feedfinder2-0.0.4-cp37-none-any.whl size=3358 sha256=bdcccb21f4447becaede37370e3f16e25e6010b48fbec8db392b9c907cbee7d3\n",
            "  Stored in directory: /root/.cache/pip/wheels/de/03/ca/778e3a7a627e3d98836cc890e7cb40c7575424cfd3340f40ed\n",
            "  Building wheel for jieba3k (setup.py) ... \u001b[?25l\u001b[?25hdone\n",
            "  Created wheel for jieba3k: filename=jieba3k-0.35.1-cp37-none-any.whl size=7398406 sha256=33d1ddddbcb35a9d82501e8484f3904b80a2115b8dcf21ec474e6863be9b35cd\n",
            "  Stored in directory: /root/.cache/pip/wheels/83/15/9c/a3f1f67e7f7181170ad37d32e503c35da20627c013f438ed34\n",
            "  Building wheel for tinysegmenter (setup.py) ... \u001b[?25l\u001b[?25hdone\n",
            "  Created wheel for tinysegmenter: filename=tinysegmenter-0.3-cp37-none-any.whl size=13538 sha256=75013cc11f5514530df9107f1a22397c81dc02eb015e706d5dd1a6111890be19\n",
            "  Stored in directory: /root/.cache/pip/wheels/81/2b/43/a02ede72324dd40cdd7ca53aad718c7710628e91b8b0dc0f02\n",
            "  Building wheel for sgmllib3k (setup.py) ... \u001b[?25l\u001b[?25hdone\n",
            "  Created wheel for sgmllib3k: filename=sgmllib3k-1.0.0-cp37-none-any.whl size=6067 sha256=82e50e868c2d35a367eeb27f2d810b76f7261877234bae50d3d4febf1de61ba4\n",
            "  Stored in directory: /root/.cache/pip/wheels/f1/80/5a/444ba08a550cdd241bd9baf8bae44be750efe370adb944506a\n",
            "Successfully built feedfinder2 jieba3k tinysegmenter sgmllib3k\n",
            "Installing collected packages: requests-file, tldextract, sgmllib3k, feedparser, feedfinder2, jieba3k, tinysegmenter, cssselect, newspaper3k\n",
            "Successfully installed cssselect-1.1.0 feedfinder2-0.0.4 feedparser-6.0.2 jieba3k-0.35.1 newspaper3k-0.2.8 requests-file-1.5.1 sgmllib3k-1.0.0 tinysegmenter-0.3 tldextract-3.1.0\n",
            "\u001b[K     |████████████████████████████████| 61kB 5.7MB/s \n",
            "\u001b[K     |████████████████████████████████| 61kB 7.0MB/s \n",
            "\u001b[?25h[nltk_data] Downloading package punkt to /root/nltk_data...\n",
            "[nltk_data]   Unzipping tokenizers/punkt.zip.\n"
          ],
          "name": "stdout"
        },
        {
          "output_type": "execute_result",
          "data": {
            "text/plain": [
              "True"
            ]
          },
          "metadata": {
            "tags": []
          },
          "execution_count": 3
        }
      ]
    },
    {
      "cell_type": "code",
      "metadata": {
        "colab": {
          "base_uri": "https://localhost:8080/"
        },
        "id": "z7aTjzwl4pUM",
        "outputId": "8de867fc-82ec-485b-cee0-adb9678767d3"
      },
      "source": [
        "pip install path"
      ],
      "execution_count": 4,
      "outputs": [
        {
          "output_type": "stream",
          "text": [
            "Collecting path\n",
            "  Downloading https://files.pythonhosted.org/packages/d3/2a/b0f97e1b736725f6ec48a8bd564ee1d1f3f945bb5d39cb44ef8bbe66bd14/path-15.1.2-py3-none-any.whl\n",
            "Installing collected packages: path\n",
            "Successfully installed path-15.1.2\n"
          ],
          "name": "stdout"
        }
      ]
    },
    {
      "cell_type": "code",
      "metadata": {
        "id": "_59IePYerdhw"
      },
      "source": [
        "import time\n",
        "import requests\n",
        "import time\n",
        "from bs4 import BeautifulSoup\n",
        "import pandas as pd\n",
        "import os\n",
        "import glob\n",
        "import shutil\n",
        "import numpy as np\n",
        "import re\n",
        "from newspaper import Article\n",
        "\n",
        "import warnings\n",
        "warnings.filterwarnings(\"ignore\", category=FutureWarning)\n",
        "from transformers import pipeline"
      ],
      "execution_count": 5,
      "outputs": []
    },
    {
      "cell_type": "code",
      "metadata": {
        "id": "tLSoMAUT4Jkb",
        "colab": {
          "base_uri": "https://localhost:8080/"
        },
        "outputId": "c511a3cf-ff3c-4ec2-8365-7c3fec8dee94"
      },
      "source": [
        "import requests\n",
        "import time\n",
        "from bs4 import BeautifulSoup\n",
        "import pandas as pd\n",
        "from kora.selenium import wd\n",
        "import os\n",
        "import scipy\n",
        "from scipy.io.wavfile import write\n",
        "import glob\n",
        "import shutil\n",
        "import textwrap\n",
        "# from resizeimage import resizeimage\n",
        "from moviepy.editor import * # ImageClip\n",
        "from PIL import Image\n",
        "import os\n",
        "from path import Path\n",
        "import numpy as np\n",
        "import cv2"
      ],
      "execution_count": 6,
      "outputs": [
        {
          "output_type": "stream",
          "text": [
            "Imageio: 'ffmpeg-linux64-v3.3.1' was not found on your computer; downloading it now.\n",
            "Try 1. Download from https://github.com/imageio/imageio-binaries/raw/master/ffmpeg/ffmpeg-linux64-v3.3.1 (43.8 MB)\n",
            "Downloading: 8192/45929032 bytes (0.0%)\b\b\b\b\b\b\b\b\b\b\b\b\b\b\b\b\b\b\b\b\b\b\b\b\b\b1523712/45929032 bytes (3.3%)\b\b\b\b\b\b\b\b\b\b\b\b\b\b\b\b\b\b\b\b\b\b\b\b\b\b\b\b\b4505600/45929032 bytes (9.8%)\b\b\b\b\b\b\b\b\b\b\b\b\b\b\b\b\b\b\b\b\b\b\b\b\b\b\b\b\b7520256/45929032 bytes (16.4%)\b\b\b\b\b\b\b\b\b\b\b\b\b\b\b\b\b\b\b\b\b\b\b\b\b\b\b\b\b\b10518528/45929032 bytes (22.9%)\b\b\b\b\b\b\b\b\b\b\b\b\b\b\b\b\b\b\b\b\b\b\b\b\b\b\b\b\b\b\b13819904/45929032 bytes (30.1%)\b\b\b\b\b\b\b\b\b\b\b\b\b\b\b\b\b\b\b\b\b\b\b\b\b\b\b\b\b\b\b17137664/45929032 bytes (37.3%)\b\b\b\b\b\b\b\b\b\b\b\b\b\b\b\b\b\b\b\b\b\b\b\b\b\b\b\b\b\b\b20373504/45929032 bytes (44.4%)\b\b\b\b\b\b\b\b\b\b\b\b\b\b\b\b\b\b\b\b\b\b\b\b\b\b\b\b\b\b\b23707648/45929032 bytes (51.6%)\b\b\b\b\b\b\b\b\b\b\b\b\b\b\b\b\b\b\b\b\b\b\b\b\b\b\b\b\b\b\b27107328/45929032 bytes (59.0%)\b\b\b\b\b\b\b\b\b\b\b\b\b\b\b\b\b\b\b\b\b\b\b\b\b\b\b\b\b\b\b30072832/45929032 bytes (65.5%)\b\b\b\b\b\b\b\b\b\b\b\b\b\b\b\b\b\b\b\b\b\b\b\b\b\b\b\b\b\b\b33226752/45929032 bytes (72.3%)\b\b\b\b\b\b\b\b\b\b\b\b\b\b\b\b\b\b\b\b\b\b\b\b\b\b\b\b\b\b\b36306944/45929032 bytes (79.1%)\b\b\b\b\b\b\b\b\b\b\b\b\b\b\b\b\b\b\b\b\b\b\b\b\b\b\b\b\b\b\b39763968/45929032 bytes (86.6%)\b\b\b\b\b\b\b\b\b\b\b\b\b\b\b\b\b\b\b\b\b\b\b\b\b\b\b\b\b\b\b43008000/45929032 bytes (93.6%)\b\b\b\b\b\b\b\b\b\b\b\b\b\b\b\b\b\b\b\b\b\b\b\b\b\b\b\b\b\b\b45929032/45929032 bytes (100.0%)\n",
            "  Done\n",
            "File saved as /root/.imageio/ffmpeg/ffmpeg-linux64-v3.3.1.\n"
          ],
          "name": "stdout"
        }
      ]
    },
    {
      "cell_type": "code",
      "metadata": {
        "colab": {
          "base_uri": "https://localhost:8080/",
          "height": 262,
          "referenced_widgets": [
            "a761a468374e483ca2bc06005daf9a7e",
            "19e4d7ab72434c7dac1f67da44062d82",
            "fe07d22d86704b01a58fe4926b19f9d1",
            "a1a388d35e124f80904f479aa1b35118",
            "ce9ae3a7221045e08573344218589ff6",
            "f3d4a2a70812418eb828b181371907e6",
            "606961fda5ae420998846bba9c9686d5",
            "e4cf711793244c4f953adf280d91fecf",
            "a57d31777218485f9c848b0f2f93fdd7",
            "2043f045415d411498fd68422b8e405f",
            "d90e084eb0f341098c92eb3522306dca",
            "85b2228b951942e3bf92eb157eb17afb",
            "e24c7cf0df6b49748cfb81b356a3a6fc",
            "3665ddacc2be49878ba1a1c6c20b7b12",
            "7875bf0d867c480491f45ccc1b97bead",
            "af5076e02ac244dd9f98d6de4099f42a",
            "81c5fa965d814449b90c46a3cbc5ec46",
            "71f82102e2ef41579f04a1032a89fc1f",
            "cca544bc8b4d48b9be924dc1e3cfb968",
            "23c0223eada648889181b94e0f81ae6c",
            "420f1c0e8bfc4e45b3f90bdd5b48e54c",
            "38fc9082e7a7425c82abfd4cfd605fc3",
            "1b1420c42f6246e3a065eae308d744c9",
            "600227c81ae6422ca8a8678865b1e294",
            "983ebc13d82045bbb753204427cd4939",
            "b8ea049ca1ef47c6aed462f2dfe4cd32",
            "f2bfd082910e420f88a6993152016801",
            "53446b0decf948c5a1249b82684cc1d8",
            "c48e878235a24010b309f3c65fdaab2c",
            "743e2207dfc746b0a2f9ca3fbf4a0a11",
            "9151b040a83e471ea2430681120d75b4",
            "d8a1e1d06a81420ca5e731cc91e1a98b",
            "b0c30bcf2f134cb8a538f8920b9b00b7",
            "d3b034ce9bed412fb8c0a86db5725be0",
            "865596377002478db647747e8977045b",
            "dd3f00e20d094a75ac0240770afe303d",
            "e0e3d68c53dd47bca573c0aa50ffeffa",
            "9e3f242c9aef4ca4914156ab62bfe07c",
            "194a3e9520124bbe821ad847ee71adda",
            "aa1e08786e5c4fb99fd0fbda761d4a06"
          ]
        },
        "id": "BUh-BEuzrdfm",
        "outputId": "cc6a8faf-bf74-4176-e7c6-ed891e6dc71d"
      },
      "source": [
        "summarizer = pipeline(\"summarization\", device=0)\n",
        "# summarizer(ARTICLE, max_length=130, min_length=30, do_sample=False)"
      ],
      "execution_count": 7,
      "outputs": [
        {
          "output_type": "display_data",
          "data": {
            "application/vnd.jupyter.widget-view+json": {
              "model_id": "a761a468374e483ca2bc06005daf9a7e",
              "version_minor": 0,
              "version_major": 2
            },
            "text/plain": [
              "HBox(children=(FloatProgress(value=0.0, description='Downloading', max=1649.0, style=ProgressStyle(description…"
            ]
          },
          "metadata": {
            "tags": []
          }
        },
        {
          "output_type": "stream",
          "text": [
            "\n"
          ],
          "name": "stdout"
        },
        {
          "output_type": "display_data",
          "data": {
            "application/vnd.jupyter.widget-view+json": {
              "model_id": "a57d31777218485f9c848b0f2f93fdd7",
              "version_minor": 0,
              "version_major": 2
            },
            "text/plain": [
              "HBox(children=(FloatProgress(value=0.0, description='Downloading', max=1222317369.0, style=ProgressStyle(descr…"
            ]
          },
          "metadata": {
            "tags": []
          }
        },
        {
          "output_type": "stream",
          "text": [
            "\n"
          ],
          "name": "stdout"
        },
        {
          "output_type": "display_data",
          "data": {
            "application/vnd.jupyter.widget-view+json": {
              "model_id": "81c5fa965d814449b90c46a3cbc5ec46",
              "version_minor": 0,
              "version_major": 2
            },
            "text/plain": [
              "HBox(children=(FloatProgress(value=0.0, description='Downloading', max=898822.0, style=ProgressStyle(descripti…"
            ]
          },
          "metadata": {
            "tags": []
          }
        },
        {
          "output_type": "stream",
          "text": [
            "\n"
          ],
          "name": "stdout"
        },
        {
          "output_type": "display_data",
          "data": {
            "application/vnd.jupyter.widget-view+json": {
              "model_id": "983ebc13d82045bbb753204427cd4939",
              "version_minor": 0,
              "version_major": 2
            },
            "text/plain": [
              "HBox(children=(FloatProgress(value=0.0, description='Downloading', max=456318.0, style=ProgressStyle(descripti…"
            ]
          },
          "metadata": {
            "tags": []
          }
        },
        {
          "output_type": "stream",
          "text": [
            "\n"
          ],
          "name": "stdout"
        },
        {
          "output_type": "display_data",
          "data": {
            "application/vnd.jupyter.widget-view+json": {
              "model_id": "b0c30bcf2f134cb8a538f8920b9b00b7",
              "version_minor": 0,
              "version_major": 2
            },
            "text/plain": [
              "HBox(children=(FloatProgress(value=0.0, description='Downloading', max=26.0, style=ProgressStyle(description_w…"
            ]
          },
          "metadata": {
            "tags": []
          }
        },
        {
          "output_type": "stream",
          "text": [
            "\n"
          ],
          "name": "stdout"
        }
      ]
    },
    {
      "cell_type": "code",
      "metadata": {
        "id": "Hvh-xjfGrddR"
      },
      "source": [
        "categories = ['b','e']\n",
        "countries = ['US','CA']\n",
        "master_dic = {}"
      ],
      "execution_count": 8,
      "outputs": []
    },
    {
      "cell_type": "code",
      "metadata": {
        "colab": {
          "base_uri": "https://localhost:8080/"
        },
        "id": "7UEeFLGQrdbC",
        "outputId": "1efb5435-8557-4958-95f4-c3144c5d9ef4"
      },
      "source": [
        "for count in countries:\n",
        "    master_dic[count] = {}\n",
        "    for cat in categories:\n",
        "        df = pd.DataFrame()\n",
        "        dfa = pd.DataFrame()\n",
        "        link = 'https://trends.google.com/trends/trendingsearches/realtime?geo={0}&category={1}'.format(count,cat)\n",
        "        master_dic[count][cat] = {}\n",
        "        wd.get(link)\n",
        "        wd.execute_script(\"window.scrollTo(0, document.body.scrollHeight);\")\n",
        "        time.sleep(5)\n",
        "        page = wd.page_source\n",
        "        soup = BeautifulSoup(page, 'html.parser')\n",
        "        result = soup.find(\"article\")\n",
        "        head_results = soup.find_all(\"div\", class_=\"summary-text\")\n",
        "        regex = r'http[s]?://(?:[a-zA-Z]|[0-9]|[$-_@.&+]|[!*\\(\\),]|(?:%[0-9a-fA-F][0-9a-fA-F]))+'\n",
        "        for i in head_results:\n",
        "            # print(i)\n",
        "            for j in i:\n",
        "                # print(j)\n",
        "                linkss = re.findall(regex,str(j))\n",
        "                if len(linkss) != 0:\n",
        "                    # print(re.findall(regex,str(linkss)))\n",
        "                    z = re.findall(regex,str(linkss))\n",
        "                    k = pd.Series(z)\n",
        "                    df = df.append(k,ignore_index=True)\n",
        "\n",
        "        for i in range(0,len(df)):\n",
        "            a = pd.Series(df[0][i][:-2])\n",
        "            dfa = dfa.append(a,ignore_index=True)\n",
        "        dfa['text'] = np.nan\n",
        "        for i in range(0,len(df)):\n",
        "            url = dfa[0][i]\n",
        "            article = Article(url)\n",
        "            try:\n",
        "                article.download()\n",
        "                article.parse()\n",
        "                article.nlp()\n",
        "                art_text = article.text\n",
        "                s = pd.Series(art_text)\n",
        "                # dfa['text'][i] = dfa.append(s,ignore_index=True)\n",
        "                dfa['text'][i] = art_text\n",
        "            except:\n",
        "                print('error ',i)\n",
        "        dfa = dfa.dropna()\n",
        "        master_dic[count][cat] = dfa"
      ],
      "execution_count": 9,
      "outputs": [
        {
          "output_type": "stream",
          "text": [
            "error  1\n",
            "error  8\n",
            "error  9\n",
            "error  10\n",
            "error  1\n",
            "error  5\n",
            "error  11\n",
            "error  13\n"
          ],
          "name": "stdout"
        }
      ]
    },
    {
      "cell_type": "code",
      "metadata": {
        "colab": {
          "base_uri": "https://localhost:8080/"
        },
        "id": "QRDYZc2-rdVc",
        "outputId": "6a7e9ec2-2727-4c39-fc4e-41f479f5f1c6"
      },
      "source": [
        "master_dic"
      ],
      "execution_count": 10,
      "outputs": [
        {
          "output_type": "execute_result",
          "data": {
            "text/plain": [
              "{'CA': {'b':                                                     0                                               text\n",
              "  0   https://analyticsindiamag.com/top-countries-pu...  The quantum computing market is valued at $472...\n",
              "  2   https://www.cbc.ca/news/canada/london/open-clo...  With a provincial lockdown still in effect, mo...\n",
              "  3   https://neighborwebsj.com/uncategorized/671473...  White Vinegar Market Research Study The explor...\n",
              "  4   https://www.thejournal.ie/virgin-galactic-shut...  A VIRGIN GALACTIC shuttle with a crew on board...\n",
              "  6   https://www.farminguk.com/news/wind-turbines-b...  Farmers and landowners who have previously bee...\n",
              "  7   https://www.whatech.com/markets-research/it/70...  Context Aware Computing Market 2021 size, grow...\n",
              "  8   https://www.globenewswire.com/news-release/202...  Pune, India, May 24, 2021 (GLOBE NEWSWIRE) --\\...\n",
              "  9   https://www.teslarati.com/tesla-cybertruck-for...  By\\n\\nThe Ford F-150 Lightning debuted on May ...\n",
              "  10  https://swarajyamag.com/news-brief/volatile-ex...  Markets had a decent week last time around, bu...\n",
              "  12  https://www.mccourier.com/g-suite-productivity...  Request Download Sample Ask For Discount Compa...,\n",
              "  'e':                                                     0                                               text\n",
              "  0   https://canoe.com/news/local-news/b-c-hobbit-h...  B.C. 'Hobbit' house renamed after threat of la...\n",
              "  1   https://tvline.com/2021/05/23/the-equalizer-se...  RELATED STORIES Equalizer's Laya DeLeon Hayes ...\n",
              "  2   https://hollywoodpq.com/le-comedien-gilbert-co...  Le comédien Gilbert Comtois s’est éteint le 19...\n",
              "  3   https://www.republicworld.com/entertainment-ne...  Sensational Canadian rapper & songster, Drake ...\n",
              "  4   https://www.cheatsheet.com/entertainment/dolly...  Dolly Parton did an interview with Playboy bac...\n",
              "  5   https://wegotthiscovered.com/movies/watch-10-m...  To give you an indication of just how bad the ...\n",
              "  6   https://www.thenationalnews.com/arts-culture/f...  Britney Spears’s Iranian-American boyfriend Sa...\n",
              "  7   https://sputniknews.com/society/20210524108297...  Earlier Canadian actor Ryan Reynolds generated...\n",
              "  8   https://www.express.co.uk/showbiz/tv-radio/144...  NCIS Los Angeles: Hetty returns in season fina...\n",
              "  9   https://www.cheatsheet.com/entertainment/90-da...  90 Day Fiancé couple Colt Johnson and Vanessa ...\n",
              "  10  https://www.menshealth.com.au/a-rod-has-launch...  And of course we're not talking about a full f...\n",
              "  11  https://www.cheatsheet.com/entertainment/dexte...  There are still a few more months until the pr...\n",
              "  12  https://www.hotnewhiphop.com/drakes-degrassi-c...  Drake's time on Degrassi feels like another li...\n",
              "  13  https://www.servicevie.com/resultat-keno-23-ma...  Aujourd’hui nous sommes le dimanche 23 mai 202...\n",
              "  14  https://www.distractify.com/p/dave-bautista-le...  In May 2021, Dave announced he's leaving the f...\n",
              "  15  https://journallesoir.ca/2021/05/23/covid-19-2...  22 nouveaux cas au Bas-Saint-Laurent pour un t...\n",
              "  16  https://www.eonline.com/news/1272795/malik-bea...  Watch : Larsa Pippen Spotted With NBA Player: ...\n",
              "  17  https://www.theglobeandmail.com/life/horoscope...  IF TODAY IS YOUR BIRTHDAY\\n\\nAim to do somethi...},\n",
              " 'US': {'b':                                                     0                                               text\n",
              "  0   https://analyticsindiamag.com/top-countries-pu...  The quantum computing market is valued at $472...\n",
              "  2   https://www.theguardian.com/business/2021/may/...  Britain’s biggest fund manager has piled press...\n",
              "  3   https://www.mccourier.com/automotive-air-condi...  Automotive Air-conditioning System Market is a...\n",
              "  4   https://www.globalbankingandfinance.com/virgin...  By Rich McKay\\n\\n(Reuters) – Flying at Mach 3 ...\n",
              "  5   https://www.loshijosdelamalinche.com/exoskelet...  The business intelligence study on “Global Exo...\n",
              "  6   https://www.loshijosdelamalinche.com/healthcar...  “\\n\\nUpdated report on the Healthcare Supply C...\n",
              "  7   https://flipboard.com/article/belarus-mig-29-t...  Here's why it never took off. Here's What You ...\n",
              "  9   https://pittsburgh.cbslocal.com/2021/05/24/pa-...  HARRISBURG (KDKA) — Pennsylvania’s State Senat...\n",
              "  10  https://bisouv.com/uncategorized/5105291/globa...  MarketsandResearch.biz has launched a new mark...\n",
              "  11  https://www.shieldsgazette.com/lifestyle/money...  Childcare cash\\n\\nHM Revenue and Customs (HMRC...\n",
              "  12  https://www.businesstimes.com.sg/consumer/unma...                                                   \n",
              "  13  https://newsheater.com/2021/05/24/buy-or-sell-...  Advanced Micro Devices Inc. (NASDAQ:AMD) went ...\n",
              "  14  https://www.nasdaq.com/articles/european-stock...  For a Reuters live blog on U.S., UK and Europe...\n",
              "  15  https://www.investmentweek.co.uk/news/4031728/...  HSBC Asset Management has appointed a new Clim...\n",
              "  16  https://newsheater.com/2021/05/24/ambev-s-a-ab...  Ambev S.A. (NYSE:ABEV) went down by -1.49% fro...\n",
              "  17  https://analyticsindiamag.com/is-india-witness...  India is among the major players in the data c...,\n",
              "  'e':                                                     0                                               text\n",
              "  0   https://popculture.com/reality-tv/news/long-is...  ✖\\n\\nFormer Long Island Medium star Theresa Ca...\n",
              "  1   https://www.stuff.co.nz/national/quizzes/30031...                                                   \n",
              "  2   https://meaww.com/lee-seung-gi-yoona-break-up-...  Lee Seung-gi's fans were left heartbroken but ...\n",
              "  3   https://heavy.com/news/robot-chicken-archie-sp...  There’s a new “Robot Chicken” special debuting...\n",
              "  4   https://www.dailymail.co.uk/tvshowbiz/article-...  Advertisement\\n\\nRita Ora and her boyfriend Ta...\n",
              "  5   https://www.indiatoday.in/movies/celebrities/s...  Priyanka Chopra made her manager Anjula Achari...\n",
              "  6   https://www.theguardian.com/music/2021/may/24/...  Mick Jagger\\n\\nDesolation Row (1965)\\n\\nI was ...\n",
              "  7   https://www.eonline.com/news/1272795/malik-bea...  Watch : Larsa Pippen Spotted With NBA Player: ...\n",
              "  8   https://www.iol.co.za/entertainment/celebrity-...  Nick Cannon is reportedly set to be a father f...\n",
              "  11  https://www.hotnewhiphop.com/drakes-degrassi-c...  Drake's time on Degrassi feels like another li...\n",
              "  12  https://illinoisnewstoday.com/jonas-brothers-2...  Hello? Hey whats up? Hello, Jonas Brothers. Wh...\n",
              "  13  https://www.iwmbuzz.com/lifestyle/fashion/vint...  Angelina Jolie is an American actress, humanit...\n",
              "  14  https://www.music-news.com/news/UK/140782/Mark...  Actress Grace Gummer has sparked speculation t...\n",
              "  15  https://www.dailymail.co.uk/tvshowbiz/article-...  He has a 19-year-old girlfriend.\\n\\nAnd Scott ...}}"
            ]
          },
          "metadata": {
            "tags": []
          },
          "execution_count": 10
        }
      ]
    },
    {
      "cell_type": "code",
      "metadata": {
        "colab": {
          "base_uri": "https://localhost:8080/"
        },
        "id": "bniJSF4UrVJo",
        "outputId": "140e9759-9ad8-4858-afab-8f70609313d2"
      },
      "source": [
        "for count in countries:\n",
        "    for cat in categories:\n",
        "        master_dic[count][cat]['summary'] = np.nan\n",
        "        master_dic[count][cat]['headline'] = np.nan\n",
        "        for i in range(0,len(master_dic[count][cat]['text'])):\n",
        "            try:\n",
        "                if len(master_dic[count][cat]['text'][i]) > 300:\n",
        "                    try:\n",
        "                        aaa = summarizer(master_dic[count][cat]['text'][i][:2000], max_length=400, min_length=100, do_sample=False)\n",
        "                        bbb = summarizer(master_dic[count][cat]['text'][i][:2000], max_length=25, min_length=10, do_sample=False)\n",
        "                        # bbb = summarizer(aaa[0]['summary_text'], max_length=25, min_length=10, do_sample=False)\n",
        "                        master_dic[count][cat]['summary'][i] = aaa[0]['summary_text']\n",
        "                        master_dic[count][cat]['headline'][i] = bbb[0]['summary_text']\n",
        "                    except:\n",
        "                        print('*********** {0}****{1}'.format(count,cat))\n",
        "            except: print('*****************************************************')\n",
        "        master_dic[count][cat].dropna(inplace=True)\n",
        "        master_dic[count][cat].reset_index(inplace=True,drop=True)"
      ],
      "execution_count": 11,
      "outputs": [
        {
          "output_type": "stream",
          "text": [
            "*****************************************************\n"
          ],
          "name": "stdout"
        },
        {
          "output_type": "stream",
          "text": [
            "Your max_length is set to 400, but you input_length is only 249. You might consider decreasing max_length manually, e.g. summarizer('...', max_length=50)\n"
          ],
          "name": "stderr"
        },
        {
          "output_type": "stream",
          "text": [
            "*****************************************************\n"
          ],
          "name": "stdout"
        },
        {
          "output_type": "stream",
          "text": [
            "Your max_length is set to 400, but you input_length is only 372. You might consider decreasing max_length manually, e.g. summarizer('...', max_length=50)\n",
            "Your max_length is set to 400, but you input_length is only 345. You might consider decreasing max_length manually, e.g. summarizer('...', max_length=50)\n",
            "Your max_length is set to 400, but you input_length is only 390. You might consider decreasing max_length manually, e.g. summarizer('...', max_length=50)\n",
            "Your max_length is set to 400, but you input_length is only 329. You might consider decreasing max_length manually, e.g. summarizer('...', max_length=50)\n",
            "Your max_length is set to 400, but you input_length is only 347. You might consider decreasing max_length manually, e.g. summarizer('...', max_length=50)\n"
          ],
          "name": "stderr"
        },
        {
          "output_type": "stream",
          "text": [
            "*****************************************************\n",
            "*****************************************************\n"
          ],
          "name": "stdout"
        },
        {
          "output_type": "stream",
          "text": [
            "Your max_length is set to 400, but you input_length is only 359. You might consider decreasing max_length manually, e.g. summarizer('...', max_length=50)\n"
          ],
          "name": "stderr"
        },
        {
          "output_type": "stream",
          "text": [
            "*****************************************************\n"
          ],
          "name": "stdout"
        },
        {
          "output_type": "stream",
          "text": [
            "Your max_length is set to 400, but you input_length is only 340. You might consider decreasing max_length manually, e.g. summarizer('...', max_length=50)\n"
          ],
          "name": "stderr"
        },
        {
          "output_type": "stream",
          "text": [
            "*****************************************************\n"
          ],
          "name": "stdout"
        },
        {
          "output_type": "stream",
          "text": [
            "Your max_length is set to 400, but you input_length is only 387. You might consider decreasing max_length manually, e.g. summarizer('...', max_length=50)\n",
            "Your max_length is set to 400, but you input_length is only 347. You might consider decreasing max_length manually, e.g. summarizer('...', max_length=50)\n",
            "Your max_length is set to 400, but you input_length is only 329. You might consider decreasing max_length manually, e.g. summarizer('...', max_length=50)\n"
          ],
          "name": "stderr"
        }
      ]
    },
    {
      "cell_type": "code",
      "metadata": {
        "colab": {
          "base_uri": "https://localhost:8080/"
        },
        "id": "aE1jJWDqvuT0",
        "outputId": "88541ae7-a9a1-417c-e38e-ffbd98162f6b"
      },
      "source": [
        "master_dic"
      ],
      "execution_count": 12,
      "outputs": [
        {
          "output_type": "execute_result",
          "data": {
            "text/plain": [
              "{'CA': {'b':                                                    0  ...                                           headline\n",
              "  0  https://analyticsindiamag.com/top-countries-pu...  ...   The quantum computing market is valued at $47...\n",
              "  1  https://www.cbc.ca/news/canada/london/open-clo...  ...   Most London, Ont., retail stores are closed o...\n",
              "  2  https://neighborwebsj.com/uncategorized/671473...  ...   Government and public solicitation of ideas t...\n",
              "  3  https://www.thejournal.ie/virgin-galactic-shut...  ...   The VSS Unity's rocket motor sent out the shi...\n",
              "  4  https://www.farminguk.com/news/wind-turbines-b...  ...   Policy change could mean onshore wind will so...\n",
              "  5  https://www.whatech.com/markets-research/it/70...  ...   Context Aware Computing Market 2021 size, gro...\n",
              "  6  https://www.globenewswire.com/news-release/202...  ...   Mobile banking have gained a lot of importanc...\n",
              "  7  https://www.teslarati.com/tesla-cybertruck-for...  ...   The Ford F-150 Lightning debuted on May 19, a...\n",
              "  \n",
              "  [8 rows x 4 columns],\n",
              "  'e':                                                     0  ...                                           headline\n",
              "  0   https://canoe.com/news/local-news/b-c-hobbit-h...  ...   B.C. 'Hobbit' house renamed after threat of l...\n",
              "  1   https://tvline.com/2021/05/23/the-equalizer-se...  ...   The Equalizer’s Delilah and her friends skipp...\n",
              "  2   https://hollywoodpq.com/le-comedien-gilbert-co...  ...   Gilbert Comtois s’est éteint le 19 mai dernie...\n",
              "  3   https://www.republicworld.com/entertainment-ne...  ...   Drake was honoured with the 'Artist of the De...\n",
              "  4   https://www.cheatsheet.com/entertainment/dolly...  ...   Dolly Parton did an interview with Playboy ba...\n",
              "  5   https://wegotthiscovered.com/movies/watch-10-m...  ...   Adam Wingard's monster mash passed Bad Boys f...\n",
              "  6   https://www.thenationalnews.com/arts-culture/f...  ...   Iranian-American actor Sam Asghari wants to b...\n",
              "  7   https://sputniknews.com/society/20210524108297...  ...   Canadian actor Ryan Reynolds tweeted that he ...\n",
              "  8   https://www.express.co.uk/showbiz/tv-radio/144...  ...   NCIS season finale aired on Sunday night at 8...\n",
              "  9   https://www.cheatsheet.com/entertainment/90-da...  ...   Colt Johnson and Vanessa Guerra have tied the...\n",
              "  10  https://www.menshealth.com.au/a-rod-has-launch...  ...   The Blur Stick is a concealer specifically de...\n",
              "  11  https://www.cheatsheet.com/entertainment/dexte...  ...   Jamie Chung says the Dexter revival will brin...\n",
              "  12  https://www.hotnewhiphop.com/drakes-degrassi-c...  ...   Drake will be honored with the Artist Of The ...\n",
              "  13  https://www.servicevie.com/resultat-keno-23-ma...  ...   Aujourd’hui nous sommes le dimanche 23 mai 20...\n",
              "  14  https://www.distractify.com/p/dave-bautista-le...  ...   Dave Bautista has confirmed that he is leavin...\n",
              "  15  https://journallesoir.ca/2021/05/23/covid-19-2...  ...   22 nouveaux cas au Bas-Saint-Laurent pour un ...\n",
              "  16  https://www.eonline.com/news/1272795/malik-bea...  ...   NBA player took to Instagram to apologize to ...\n",
              "  17  https://www.theglobeandmail.com/life/horoscope...  ...   The sun in your sign, and the approaching lun...\n",
              "  \n",
              "  [18 rows x 4 columns]},\n",
              " 'US': {'b':                                                     0  ...                                           headline\n",
              "  0   https://analyticsindiamag.com/top-countries-pu...  ...   The quantum computing market is valued at $47...\n",
              "  1   https://www.theguardian.com/business/2021/may/...  ...   Legal & General Investment Management (LGIM) ...\n",
              "  2   https://www.mccourier.com/automotive-air-condi...  ...   Automotive Air-conditioning System Market is ...\n",
              "  3   https://www.globalbankingandfinance.com/virgin...  ...   Sir Richard Branson’s private spaceship compa...\n",
              "  4   https://www.loshijosdelamalinche.com/exoskelet...  ...   Cyberdyne, Hocoma, ReWalk Robotics, Ekso Bion...\n",
              "  5   https://www.loshijosdelamalinche.com/healthcar...  ...   The report refers to different techniques, ma...\n",
              "  6   https://pittsburgh.cbslocal.com/2021/05/24/pa-...  ...   The Senate Communications and Technology Comm...\n",
              "  7   https://bisouv.com/uncategorized/5105291/globa...  ...   MarketsandResearch.biz has launched a new mar...\n",
              "  8   https://www.shieldsgazette.com/lifestyle/money...  ...   HMRC say 750 parents in South Tyneside took a...\n",
              "  9   https://newsheater.com/2021/05/24/buy-or-sell-...  ...   Advanced Micro Devices Inc. (NASDAQ:AMD) went...\n",
              "  10  https://www.nasdaq.com/articles/european-stock...  ...   European markets close in on record highs as ...\n",
              "  11  https://www.investmentweek.co.uk/news/4031728/...  ...   The new team will focus on climate change in ...\n",
              "  \n",
              "  [12 rows x 4 columns],\n",
              "  'e':                                                     0  ...                                           headline\n",
              "  0   https://popculture.com/reality-tv/news/long-is...  ...   Theresa Caputo's daughter Victoria married Mi...\n",
              "  1   https://meaww.com/lee-seung-gi-yoona-break-up-...  ...   Korean media outlets confirmed that Lee Seung...\n",
              "  2   https://heavy.com/news/robot-chicken-archie-sp...  ...   There’s a new “Robot Chicken” special debutin...\n",
              "  3   https://www.dailymail.co.uk/tvshowbiz/article-...  ...   Rita Ora and her boyfriend Taika Waititi's re...\n",
              "  4   https://www.indiatoday.in/movies/celebrities/s...  ...   Priyanka Chopra wished manager Anjula Acharia...\n",
              "  5   https://www.theguardian.com/music/2021/may/24/...  ...   The delivery isn’t just the words, it’s the a...\n",
              "  6   https://www.eonline.com/news/1272795/malik-bea...  ...   NBA player took to Instagram to apologize to ...\n",
              "  7   https://www.iol.co.za/entertainment/celebrity-...  ...   Nick Cannon is reportedly having a child with...\n",
              "  8   https://www.hotnewhiphop.com/drakes-degrassi-c...  ...   Drake will be honored with the Artist Of The ...\n",
              "  9   https://illinoisnewstoday.com/jonas-brothers-2...  ...   The 44-day tour begins on August 20th in Las ...\n",
              "  10  https://www.iwmbuzz.com/lifestyle/fashion/vint...  ...   Angelina Jolie is an American actress, humani...\n",
              "  \n",
              "  [11 rows x 4 columns]}}"
            ]
          },
          "metadata": {
            "tags": []
          },
          "execution_count": 12
        }
      ]
    },
    {
      "cell_type": "code",
      "metadata": {
        "colab": {
          "base_uri": "https://localhost:8080/",
          "height": 433
        },
        "id": "qKwsCxtC2-MH",
        "outputId": "e98f8bd2-a32f-481f-a7ce-f414a4e51c06"
      },
      "source": [
        "master_dic['CA']['b']"
      ],
      "execution_count": 13,
      "outputs": [
        {
          "output_type": "execute_result",
          "data": {
            "text/html": [
              "<div>\n",
              "<style scoped>\n",
              "    .dataframe tbody tr th:only-of-type {\n",
              "        vertical-align: middle;\n",
              "    }\n",
              "\n",
              "    .dataframe tbody tr th {\n",
              "        vertical-align: top;\n",
              "    }\n",
              "\n",
              "    .dataframe thead th {\n",
              "        text-align: right;\n",
              "    }\n",
              "</style>\n",
              "<table border=\"1\" class=\"dataframe\">\n",
              "  <thead>\n",
              "    <tr style=\"text-align: right;\">\n",
              "      <th></th>\n",
              "      <th>0</th>\n",
              "      <th>text</th>\n",
              "      <th>summary</th>\n",
              "      <th>headline</th>\n",
              "    </tr>\n",
              "  </thead>\n",
              "  <tbody>\n",
              "    <tr>\n",
              "      <th>0</th>\n",
              "      <td>https://analyticsindiamag.com/top-countries-pu...</td>\n",
              "      <td>The quantum computing market is valued at $472...</td>\n",
              "      <td>The quantum computing market is valued at $47...</td>\n",
              "      <td>The quantum computing market is valued at $47...</td>\n",
              "    </tr>\n",
              "    <tr>\n",
              "      <th>1</th>\n",
              "      <td>https://www.cbc.ca/news/canada/london/open-clo...</td>\n",
              "      <td>With a provincial lockdown still in effect, mo...</td>\n",
              "      <td>Most London, Ont., retail stores are closed o...</td>\n",
              "      <td>Most London, Ont., retail stores are closed o...</td>\n",
              "    </tr>\n",
              "    <tr>\n",
              "      <th>2</th>\n",
              "      <td>https://neighborwebsj.com/uncategorized/671473...</td>\n",
              "      <td>White Vinegar Market Research Study The explor...</td>\n",
              "      <td>Government and public solicitation of ideas t...</td>\n",
              "      <td>Government and public solicitation of ideas t...</td>\n",
              "    </tr>\n",
              "    <tr>\n",
              "      <th>3</th>\n",
              "      <td>https://www.thejournal.ie/virgin-galactic-shut...</td>\n",
              "      <td>A VIRGIN GALACTIC shuttle with a crew on board...</td>\n",
              "      <td>The VSS Unity's rocket motor sent out the shi...</td>\n",
              "      <td>The VSS Unity's rocket motor sent out the shi...</td>\n",
              "    </tr>\n",
              "    <tr>\n",
              "      <th>4</th>\n",
              "      <td>https://www.farminguk.com/news/wind-turbines-b...</td>\n",
              "      <td>Farmers and landowners who have previously bee...</td>\n",
              "      <td>Policy change could mean onshore wind will so...</td>\n",
              "      <td>Policy change could mean onshore wind will so...</td>\n",
              "    </tr>\n",
              "    <tr>\n",
              "      <th>5</th>\n",
              "      <td>https://www.whatech.com/markets-research/it/70...</td>\n",
              "      <td>Context Aware Computing Market 2021 size, grow...</td>\n",
              "      <td>Context Aware Computing Market 2021 size, gro...</td>\n",
              "      <td>Context Aware Computing Market 2021 size, gro...</td>\n",
              "    </tr>\n",
              "    <tr>\n",
              "      <th>6</th>\n",
              "      <td>https://www.globenewswire.com/news-release/202...</td>\n",
              "      <td>Pune, India, May 24, 2021 (GLOBE NEWSWIRE) --\\...</td>\n",
              "      <td>Mobile banking have gained a lot of importanc...</td>\n",
              "      <td>Mobile banking have gained a lot of importanc...</td>\n",
              "    </tr>\n",
              "    <tr>\n",
              "      <th>7</th>\n",
              "      <td>https://www.teslarati.com/tesla-cybertruck-for...</td>\n",
              "      <td>By\\n\\nThe Ford F-150 Lightning debuted on May ...</td>\n",
              "      <td>The Ford F-150 Lightning debuted on May 19, a...</td>\n",
              "      <td>The Ford F-150 Lightning debuted on May 19, a...</td>\n",
              "    </tr>\n",
              "  </tbody>\n",
              "</table>\n",
              "</div>"
            ],
            "text/plain": [
              "                                                   0  ...                                           headline\n",
              "0  https://analyticsindiamag.com/top-countries-pu...  ...   The quantum computing market is valued at $47...\n",
              "1  https://www.cbc.ca/news/canada/london/open-clo...  ...   Most London, Ont., retail stores are closed o...\n",
              "2  https://neighborwebsj.com/uncategorized/671473...  ...   Government and public solicitation of ideas t...\n",
              "3  https://www.thejournal.ie/virgin-galactic-shut...  ...   The VSS Unity's rocket motor sent out the shi...\n",
              "4  https://www.farminguk.com/news/wind-turbines-b...  ...   Policy change could mean onshore wind will so...\n",
              "5  https://www.whatech.com/markets-research/it/70...  ...   Context Aware Computing Market 2021 size, gro...\n",
              "6  https://www.globenewswire.com/news-release/202...  ...   Mobile banking have gained a lot of importanc...\n",
              "7  https://www.teslarati.com/tesla-cybertruck-for...  ...   The Ford F-150 Lightning debuted on May 19, a...\n",
              "\n",
              "[8 rows x 4 columns]"
            ]
          },
          "metadata": {
            "tags": []
          },
          "execution_count": 13
        }
      ]
    },
    {
      "cell_type": "code",
      "metadata": {
        "id": "sScrrOsEw59T"
      },
      "source": [
        "# !pip install kora -q\n",
        "# !pip install bing-image-downloader\n",
        "from kora.selenium import wd\n",
        "from bs4 import BeautifulSoup\n",
        "import time\n",
        "import re\n",
        "import requests\n",
        "def image_download(query,path='/dataset/',max=5,show=True):\n",
        "    try:\n",
        "        wd.get(\"https://www.google.com/search?q={0}&rlz=1C1CHBF_enIN922IN922&sxsrf=ALeKk0378KGZuab4G3o516deoY5ZqW-xbg:1620111097016&source=lnms&tbm=isch&sa=X&ved=2ahUKEwiGmLyTuK_wAhVuwzgGHfChD8kQ_AUoAXoECAIQAw&biw=1366&bih=635\".format(query))\n",
        "        wd.execute_script(\"window.scrollTo(0, document.body.scrollHeight);\")\n",
        "        if max >= 75:\n",
        "            time.sleep(5)\n",
        "            wd.execute_script(\"window.scrollTo(15, document.body.scrollHeight);\")\n",
        "            time.sleep(5)\n",
        "        page = wd.page_source\n",
        "        soup = BeautifulSoup(page, 'html.parser')\n",
        "        # soup.find_all(re.compile(\"(?:http\\:|https\\:)?\\/\\/.*\\.(?:jpg)\"))\n",
        "        obj = re.findall('(?:http\\:|https\\:)?\\/\\/.*\\.(?:jpg)',str(soup))\n",
        "        print(len(obj))\n",
        "        directory = os.getcwd()+'{0}{1}'.format(path,query)\n",
        "        if not os.path.isdir(directory):\n",
        "            os.mkdir(directory)\n",
        "        for i in range(3,max+3):\n",
        "            if show == True:\n",
        "                print('downloading img no ',i-3)\n",
        "            response = requests.get(obj[i])\n",
        "            file = open(\"{0}/{1}{2}.jpg\".format(directory,query,i), \"wb\")\n",
        "            file.write(response.content)\n",
        "            file.close()\n",
        "        print('download {} images'.format(max))\n",
        "    except OSError as error: \n",
        "        print(error)"
      ],
      "execution_count": 15,
      "outputs": []
    },
    {
      "cell_type": "code",
      "metadata": {
        "colab": {
          "base_uri": "https://localhost:8080/"
        },
        "id": "KnYp4D6kz9sL",
        "outputId": "0fee181f-ef48-4604-d39c-71d9c2dda3fc"
      },
      "source": [
        "try:\n",
        "    os.mkdir('output')\n",
        "except:\n",
        "    print('already there')\n",
        "fol = ['img','video','final_video','dataset']\n",
        "for count in countries:\n",
        "    for cat in categories:\n",
        "        dfx = master_dic[count][cat]\n",
        "        for y in range(0,len(fol)):\n",
        "            a = fol[y]\n",
        "            try:\n",
        "                shutil.rmtree(a)\n",
        "            except:\n",
        "                print('error folder delete {}'.format(a))\n",
        "            try:\n",
        "                os.mkdir(a)\n",
        "            except:\n",
        "                print('error folder {}'.format(a))\n",
        "        dfx = dfx.head(5)\n",
        "        for i in range(0,len(dfx)):\n",
        "            input_text = dfx.headline[i] + '!!!,' + dfx.summary[i]\n",
        "            mels, alignment_history, audios = do_synthesis(input_text, tacotron2, melgan_stft, \"TACOTRON\", \"MELGAN-STFT\")\n",
        "            scipy.io.wavfile.write('audios.mp3', rate=22050, data=audios)\n",
        "            audio_clip = AudioFileClip('/content/audios.mp3')\n",
        "            # time.sleep(5)\n",
        "            try:\n",
        "                image_download(dfx.headline[i],max=10)\n",
        "            except:\n",
        "                print('image download error ',dfx.headline[i])\n",
        "            # downloader.download(dfx.headline[i], limit=10,  output_dir='dataset', adult_filter_off=True, force_replace=False, timeout=60)\n",
        "            try:\n",
        "                this_dir = os.listdir('/content/dataset/{}'.format(dfx.headline[i]))\n",
        "                filepaths = [os.path.join('/content/dataset/{}'.format(dfx.headline[i]), fname) for fname in this_dir if fname.endswith(\"jpg\")]\n",
        "            except:\n",
        "                print('image folder error')\n",
        "            dir = '/content/img'\n",
        "            for f in os.listdir(dir):\n",
        "                os.remove(os.path.join(dir, f))\n",
        "            for j in filepaths:\n",
        "                try:\n",
        "                    image = cv2.imread(j, 1)\n",
        "                    stretch_near = cv2.resize(image, (1280, 720),interpolation = cv2.INTER_NEAREST)\n",
        "                    cv2.imwrite('/content/img/{}'.format(j[-11:]), stretch_near)\n",
        "                except:\n",
        "                    print('resize error')\n",
        "            if len(glob.glob('/content/img/*.jpg')) > 0:\n",
        "                this_dir = os.listdir('/content/img')\n",
        "                filepaths = [os.path.join('/content/img', fname) for fname in this_dir if fname.endswith(\"jpg\")][:5]\n",
        "                output_video = os.path.join('/content/video', 'video{}.mp4'.format(i))\n",
        "                # clip = ImageSequenceClip(filepaths, fps=0.2)\n",
        "                clip = ImageSequenceClip(filepaths, fps=0.25)\n",
        "                clip.write_videofile(output_video, codec='libx264', audio_codec=\"aac\")\n",
        "\n",
        "                final_video_path = os.path.join('/content/final_video', 'final-video{}.mp4'.format(i))\n",
        "                video_clip = VideoFileClip(output_video)\n",
        "\n",
        "                final_clip = video_clip.set_audio(audio_clip)\n",
        "                final_clip.write_videofile(final_video_path, codec='libx264', audio_codec=\"aac\")\n",
        "\n",
        "                tclip = VideoFileClip(final_video_path)\n",
        "\n",
        "                out = ''\n",
        "                wrapper = textwrap.TextWrapper(width=18)\n",
        "                word_list = wrapper.wrap(text=dfx.headline[i])\n",
        "                for element in word_list:\n",
        "                    out = out + element + '\\n'\n",
        "\n",
        "                # Generate a text clip\n",
        "                txt_clip = TextClip(out, fontsize = 65, color = 'black', font=\"Amiri-Bold\")\n",
        "                    \n",
        "                # setting position of text in the center and duration will be 10 seconds\n",
        "                txt_clip = txt_clip.set_pos('center',relative=True).set_duration(5)\n",
        "                    \n",
        "                # Overlay the text clip on the first video clip\n",
        "                video = CompositeVideoClip([tclip, txt_clip])\n",
        "                video.write_videofile(final_video_path, codec='libx264', audio_codec=\"aac\")\n",
        "            else:\n",
        "                print('No Images Found '*5)\n",
        "\n",
        "        clipss = {}\n",
        "        for z in range(0,len(glob.glob('/content/final_video/*.mp4'))):\n",
        "            clipss['c{}'.format(z)] = VideoFileClip(glob.glob('/content/final_video/*.mp4')[z])\n",
        "        clips = []\n",
        "        for state, capital in clipss.items():\n",
        "            clips.append(capital)\n",
        "        final = concatenate_videoclips(clips)\n",
        "        final_video_path = os.path.join('/content/output/', '{0}_{1}_final-video.mp4'.format(count,cat))\n",
        "        final.write_videofile(final_video_path, codec='libx264', audio_codec=\"aac\")"
      ],
      "execution_count": 18,
      "outputs": [
        {
          "output_type": "stream",
          "text": [
            "already there\n",
            "46\n",
            "downloading img no  0\n",
            "downloading img no  1\n",
            "downloading img no  2\n",
            "downloading img no  3\n",
            "downloading img no  4\n",
            "downloading img no  5\n",
            "downloading img no  6\n",
            "downloading img no  7\n",
            "downloading img no  8\n",
            "downloading img no  9\n",
            "download 10 images\n",
            "resize error\n",
            "resize error\n",
            "resize error\n",
            "[MoviePy] >>>> Building video /content/video/video0.mp4\n",
            "[MoviePy] Writing video /content/video/video0.mp4\n"
          ],
          "name": "stdout"
        },
        {
          "output_type": "stream",
          "text": [
            " 83%|████████▎ | 5/6 [00:00<00:00, 41.80it/s]\n"
          ],
          "name": "stderr"
        },
        {
          "output_type": "stream",
          "text": [
            "[MoviePy] Done.\n",
            "[MoviePy] >>>> Video ready: /content/video/video0.mp4 \n",
            "\n",
            "[MoviePy] >>>> Building video /content/final_video/final-video0.mp4\n",
            "[MoviePy] Writing audio in final-video0TEMP_MPY_wvf_snd.mp4\n"
          ],
          "name": "stdout"
        },
        {
          "output_type": "stream",
          "text": [
            "100%|██████████| 1025/1025 [00:02<00:00, 357.98it/s]\n"
          ],
          "name": "stderr"
        },
        {
          "output_type": "stream",
          "text": [
            "[MoviePy] Done.\n",
            "[MoviePy] Writing video /content/final_video/final-video0.mp4\n"
          ],
          "name": "stdout"
        },
        {
          "output_type": "stream",
          "text": [
            " 83%|████████▎ | 5/6 [00:00<00:00, 106.19it/s]\n"
          ],
          "name": "stderr"
        },
        {
          "output_type": "stream",
          "text": [
            "[MoviePy] Done.\n",
            "[MoviePy] >>>> Video ready: /content/final_video/final-video0.mp4 \n",
            "\n",
            "[MoviePy] >>>> Building video /content/final_video/final-video0.mp4\n",
            "[MoviePy] Writing audio in final-video0TEMP_MPY_wvf_snd.mp4\n"
          ],
          "name": "stdout"
        },
        {
          "output_type": "stream",
          "text": [
            "100%|██████████| 1025/1025 [00:02<00:00, 351.93it/s]"
          ],
          "name": "stderr"
        },
        {
          "output_type": "stream",
          "text": [
            "[MoviePy] Done.\n",
            "[MoviePy] Writing video /content/final_video/final-video0.mp4\n"
          ],
          "name": "stdout"
        },
        {
          "output_type": "stream",
          "text": [
            "\n",
            "100%|██████████| 12/12 [00:00<00:00, 29.89it/s]\n"
          ],
          "name": "stderr"
        },
        {
          "output_type": "stream",
          "text": [
            "[MoviePy] Done.\n",
            "[MoviePy] >>>> Video ready: /content/final_video/final-video0.mp4 \n",
            "\n",
            "58\n",
            "downloading img no  0\n",
            "downloading img no  1\n",
            "downloading img no  2\n",
            "downloading img no  3\n",
            "downloading img no  4\n",
            "downloading img no  5\n",
            "downloading img no  6\n",
            "downloading img no  7\n",
            "downloading img no  8\n",
            "downloading img no  9\n",
            "download 10 images\n",
            "[MoviePy] >>>> Building video /content/video/video1.mp4\n",
            "[MoviePy] Writing video /content/video/video1.mp4\n"
          ],
          "name": "stdout"
        },
        {
          "output_type": "stream",
          "text": [
            " 83%|████████▎ | 5/6 [00:00<00:00, 33.79it/s]\n"
          ],
          "name": "stderr"
        },
        {
          "output_type": "stream",
          "text": [
            "[MoviePy] Done.\n",
            "[MoviePy] >>>> Video ready: /content/video/video1.mp4 \n",
            "\n",
            "[MoviePy] >>>> Building video /content/final_video/final-video1.mp4\n",
            "[MoviePy] Writing audio in final-video1TEMP_MPY_wvf_snd.mp4\n"
          ],
          "name": "stdout"
        },
        {
          "output_type": "stream",
          "text": [
            "100%|██████████| 1025/1025 [00:02<00:00, 358.52it/s]"
          ],
          "name": "stderr"
        },
        {
          "output_type": "stream",
          "text": [
            "[MoviePy] Done.\n",
            "[MoviePy] Writing video /content/final_video/final-video1.mp4\n"
          ],
          "name": "stdout"
        },
        {
          "output_type": "stream",
          "text": [
            "\n",
            " 83%|████████▎ | 5/6 [00:00<00:00, 90.94it/s]\n"
          ],
          "name": "stderr"
        },
        {
          "output_type": "stream",
          "text": [
            "[MoviePy] Done.\n",
            "[MoviePy] >>>> Video ready: /content/final_video/final-video1.mp4 \n",
            "\n",
            "[MoviePy] >>>> Building video /content/final_video/final-video1.mp4\n",
            "[MoviePy] Writing audio in final-video1TEMP_MPY_wvf_snd.mp4\n"
          ],
          "name": "stdout"
        },
        {
          "output_type": "stream",
          "text": [
            "100%|██████████| 1025/1025 [00:02<00:00, 358.19it/s]"
          ],
          "name": "stderr"
        },
        {
          "output_type": "stream",
          "text": [
            "[MoviePy] Done.\n",
            "[MoviePy] Writing video /content/final_video/final-video1.mp4\n"
          ],
          "name": "stdout"
        },
        {
          "output_type": "stream",
          "text": [
            "\n",
            "100%|██████████| 12/12 [00:00<00:00, 30.05it/s]\n"
          ],
          "name": "stderr"
        },
        {
          "output_type": "stream",
          "text": [
            "[MoviePy] Done.\n",
            "[MoviePy] >>>> Video ready: /content/final_video/final-video1.mp4 \n",
            "\n",
            "62\n",
            "downloading img no  0\n",
            "downloading img no  1\n",
            "downloading img no  2\n",
            "downloading img no  3\n",
            "downloading img no  4\n",
            "downloading img no  5\n",
            "downloading img no  6\n",
            "downloading img no  7\n",
            "downloading img no  8\n",
            "downloading img no  9\n",
            "download 10 images\n",
            "[MoviePy] >>>> Building video /content/video/video2.mp4\n",
            "[MoviePy] Writing video /content/video/video2.mp4\n"
          ],
          "name": "stdout"
        },
        {
          "output_type": "stream",
          "text": [
            " 83%|████████▎ | 5/6 [00:00<00:00, 40.67it/s]\n"
          ],
          "name": "stderr"
        },
        {
          "output_type": "stream",
          "text": [
            "[MoviePy] Done.\n",
            "[MoviePy] >>>> Video ready: /content/video/video2.mp4 \n",
            "\n",
            "[MoviePy] >>>> Building video /content/final_video/final-video2.mp4\n",
            "[MoviePy] Writing audio in final-video2TEMP_MPY_wvf_snd.mp4\n"
          ],
          "name": "stdout"
        },
        {
          "output_type": "stream",
          "text": [
            "100%|██████████| 1025/1025 [00:02<00:00, 390.07it/s]"
          ],
          "name": "stderr"
        },
        {
          "output_type": "stream",
          "text": [
            "[MoviePy] Done.\n",
            "[MoviePy] Writing video /content/final_video/final-video2.mp4\n"
          ],
          "name": "stdout"
        },
        {
          "output_type": "stream",
          "text": [
            "\n",
            " 83%|████████▎ | 5/6 [00:00<00:00, 99.72it/s]\n"
          ],
          "name": "stderr"
        },
        {
          "output_type": "stream",
          "text": [
            "[MoviePy] Done.\n",
            "[MoviePy] >>>> Video ready: /content/final_video/final-video2.mp4 \n",
            "\n",
            "[MoviePy] >>>> Building video /content/final_video/final-video2.mp4\n",
            "[MoviePy] Writing audio in final-video2TEMP_MPY_wvf_snd.mp4\n"
          ],
          "name": "stdout"
        },
        {
          "output_type": "stream",
          "text": [
            "100%|██████████| 1025/1025 [00:02<00:00, 360.21it/s]"
          ],
          "name": "stderr"
        },
        {
          "output_type": "stream",
          "text": [
            "[MoviePy] Done.\n",
            "[MoviePy] Writing video /content/final_video/final-video2.mp4\n"
          ],
          "name": "stdout"
        },
        {
          "output_type": "stream",
          "text": [
            "\n",
            "100%|██████████| 12/12 [00:00<00:00, 30.15it/s]\n"
          ],
          "name": "stderr"
        },
        {
          "output_type": "stream",
          "text": [
            "[MoviePy] Done.\n",
            "[MoviePy] >>>> Video ready: /content/final_video/final-video2.mp4 \n",
            "\n",
            "73\n",
            "downloading img no  0\n",
            "downloading img no  1\n",
            "downloading img no  2\n",
            "downloading img no  3\n",
            "downloading img no  4\n",
            "downloading img no  5\n",
            "downloading img no  6\n",
            "downloading img no  7\n",
            "downloading img no  8\n",
            "downloading img no  9\n",
            "download 10 images\n",
            "[MoviePy] >>>> Building video /content/video/video3.mp4\n",
            "[MoviePy] Writing video /content/video/video3.mp4\n"
          ],
          "name": "stdout"
        },
        {
          "output_type": "stream",
          "text": [
            " 83%|████████▎ | 5/6 [00:00<00:00, 39.21it/s]\n"
          ],
          "name": "stderr"
        },
        {
          "output_type": "stream",
          "text": [
            "[MoviePy] Done.\n",
            "[MoviePy] >>>> Video ready: /content/video/video3.mp4 \n",
            "\n",
            "[MoviePy] >>>> Building video /content/final_video/final-video3.mp4\n",
            "[MoviePy] Writing audio in final-video3TEMP_MPY_wvf_snd.mp4\n"
          ],
          "name": "stdout"
        },
        {
          "output_type": "stream",
          "text": [
            "100%|██████████| 1021/1021 [00:02<00:00, 371.54it/s]\n"
          ],
          "name": "stderr"
        },
        {
          "output_type": "stream",
          "text": [
            "[MoviePy] Done.\n",
            "[MoviePy] Writing video /content/final_video/final-video3.mp4\n"
          ],
          "name": "stdout"
        },
        {
          "output_type": "stream",
          "text": [
            " 83%|████████▎ | 5/6 [00:00<00:00, 107.91it/s]\n"
          ],
          "name": "stderr"
        },
        {
          "output_type": "stream",
          "text": [
            "[MoviePy] Done.\n",
            "[MoviePy] >>>> Video ready: /content/final_video/final-video3.mp4 \n",
            "\n",
            "[MoviePy] >>>> Building video /content/final_video/final-video3.mp4\n",
            "[MoviePy] Writing audio in final-video3TEMP_MPY_wvf_snd.mp4\n"
          ],
          "name": "stdout"
        },
        {
          "output_type": "stream",
          "text": [
            "100%|██████████| 1022/1022 [00:02<00:00, 358.64it/s]"
          ],
          "name": "stderr"
        },
        {
          "output_type": "stream",
          "text": [
            "[MoviePy] Done.\n",
            "[MoviePy] Writing video /content/final_video/final-video3.mp4\n"
          ],
          "name": "stdout"
        },
        {
          "output_type": "stream",
          "text": [
            "\n",
            "100%|██████████| 12/12 [00:00<00:00, 31.09it/s]\n"
          ],
          "name": "stderr"
        },
        {
          "output_type": "stream",
          "text": [
            "[MoviePy] Done.\n",
            "[MoviePy] >>>> Video ready: /content/final_video/final-video3.mp4 \n",
            "\n",
            "70\n",
            "downloading img no  0\n",
            "downloading img no  1\n",
            "downloading img no  2\n",
            "downloading img no  3\n",
            "downloading img no  4\n",
            "downloading img no  5\n",
            "downloading img no  6\n",
            "downloading img no  7\n",
            "downloading img no  8\n",
            "downloading img no  9\n",
            "download 10 images\n",
            "[MoviePy] >>>> Building video /content/video/video4.mp4\n",
            "[MoviePy] Writing video /content/video/video4.mp4\n"
          ],
          "name": "stdout"
        },
        {
          "output_type": "stream",
          "text": [
            " 83%|████████▎ | 5/6 [00:00<00:00, 44.21it/s]\n"
          ],
          "name": "stderr"
        },
        {
          "output_type": "stream",
          "text": [
            "[MoviePy] Done.\n",
            "[MoviePy] >>>> Video ready: /content/video/video4.mp4 \n",
            "\n",
            "[MoviePy] >>>> Building video /content/final_video/final-video4.mp4\n",
            "[MoviePy] Writing audio in final-video4TEMP_MPY_wvf_snd.mp4\n"
          ],
          "name": "stdout"
        },
        {
          "output_type": "stream",
          "text": [
            "100%|██████████| 1025/1025 [00:02<00:00, 345.58it/s]"
          ],
          "name": "stderr"
        },
        {
          "output_type": "stream",
          "text": [
            "[MoviePy] Done.\n",
            "[MoviePy] Writing video /content/final_video/final-video4.mp4\n"
          ],
          "name": "stdout"
        },
        {
          "output_type": "stream",
          "text": [
            "\n",
            " 83%|████████▎ | 5/6 [00:00<00:00, 88.94it/s]\n"
          ],
          "name": "stderr"
        },
        {
          "output_type": "stream",
          "text": [
            "[MoviePy] Done.\n",
            "[MoviePy] >>>> Video ready: /content/final_video/final-video4.mp4 \n",
            "\n",
            "[MoviePy] >>>> Building video /content/final_video/final-video4.mp4\n",
            "[MoviePy] Writing audio in final-video4TEMP_MPY_wvf_snd.mp4\n"
          ],
          "name": "stdout"
        },
        {
          "output_type": "stream",
          "text": [
            "100%|██████████| 1025/1025 [00:02<00:00, 348.70it/s]"
          ],
          "name": "stderr"
        },
        {
          "output_type": "stream",
          "text": [
            "[MoviePy] Done.\n",
            "[MoviePy] Writing video /content/final_video/final-video4.mp4\n"
          ],
          "name": "stdout"
        },
        {
          "output_type": "stream",
          "text": [
            "\n",
            "100%|██████████| 12/12 [00:00<00:00, 34.32it/s]\n"
          ],
          "name": "stderr"
        },
        {
          "output_type": "stream",
          "text": [
            "[MoviePy] Done.\n",
            "[MoviePy] >>>> Video ready: /content/final_video/final-video4.mp4 \n",
            "\n",
            "[MoviePy] >>>> Building video /content/output/US_b_final-video.mp4\n",
            "[MoviePy] Writing audio in US_b_final-videoTEMP_MPY_wvf_snd.mp4\n"
          ],
          "name": "stdout"
        },
        {
          "output_type": "stream",
          "text": [
            "100%|██████████| 5293/5293 [00:14<00:00, 370.42it/s]"
          ],
          "name": "stderr"
        },
        {
          "output_type": "stream",
          "text": [
            "[MoviePy] Done.\n",
            "[MoviePy] Writing video /content/output/US_b_final-video.mp4\n"
          ],
          "name": "stdout"
        },
        {
          "output_type": "stream",
          "text": [
            "\n",
            " 98%|█████████▊| 60/61 [00:01<00:00, 44.96it/s]\n"
          ],
          "name": "stderr"
        },
        {
          "output_type": "stream",
          "text": [
            "[MoviePy] Done.\n",
            "[MoviePy] >>>> Video ready: /content/output/US_b_final-video.mp4 \n",
            "\n",
            "78\n",
            "downloading img no  0\n",
            "downloading img no  1\n",
            "downloading img no  2\n",
            "downloading img no  3\n",
            "downloading img no  4\n",
            "downloading img no  5\n",
            "downloading img no  6\n",
            "downloading img no  7\n",
            "downloading img no  8\n",
            "downloading img no  9\n",
            "download 10 images\n",
            "[MoviePy] >>>> Building video /content/video/video0.mp4\n",
            "[MoviePy] Writing video /content/video/video0.mp4\n"
          ],
          "name": "stdout"
        },
        {
          "output_type": "stream",
          "text": [
            " 83%|████████▎ | 5/6 [00:00<00:00, 36.94it/s]\n"
          ],
          "name": "stderr"
        },
        {
          "output_type": "stream",
          "text": [
            "[MoviePy] Done.\n",
            "[MoviePy] >>>> Video ready: /content/video/video0.mp4 \n",
            "\n",
            "[MoviePy] >>>> Building video /content/final_video/final-video0.mp4\n",
            "[MoviePy] Writing audio in final-video0TEMP_MPY_wvf_snd.mp4\n"
          ],
          "name": "stdout"
        },
        {
          "output_type": "stream",
          "text": [
            "100%|██████████| 987/987 [00:02<00:00, 373.81it/s]"
          ],
          "name": "stderr"
        },
        {
          "output_type": "stream",
          "text": [
            "[MoviePy] Done.\n"
          ],
          "name": "stdout"
        },
        {
          "output_type": "stream",
          "text": [
            "\n"
          ],
          "name": "stderr"
        },
        {
          "output_type": "stream",
          "text": [
            "[MoviePy] Writing video /content/final_video/final-video0.mp4\n"
          ],
          "name": "stdout"
        },
        {
          "output_type": "stream",
          "text": [
            " 83%|████████▎ | 5/6 [00:00<00:00, 100.71it/s]\n"
          ],
          "name": "stderr"
        },
        {
          "output_type": "stream",
          "text": [
            "[MoviePy] Done.\n",
            "[MoviePy] >>>> Video ready: /content/final_video/final-video0.mp4 \n",
            "\n",
            "[MoviePy] >>>> Building video /content/final_video/final-video0.mp4\n",
            "[MoviePy] Writing audio in final-video0TEMP_MPY_wvf_snd.mp4\n"
          ],
          "name": "stdout"
        },
        {
          "output_type": "stream",
          "text": [
            "100%|██████████| 988/988 [00:02<00:00, 352.14it/s]"
          ],
          "name": "stderr"
        },
        {
          "output_type": "stream",
          "text": [
            "[MoviePy] Done.\n",
            "[MoviePy] Writing video /content/final_video/final-video0.mp4\n"
          ],
          "name": "stdout"
        },
        {
          "output_type": "stream",
          "text": [
            "\n",
            "100%|██████████| 12/12 [00:00<00:00, 31.78it/s]\n"
          ],
          "name": "stderr"
        },
        {
          "output_type": "stream",
          "text": [
            "[MoviePy] Done.\n",
            "[MoviePy] >>>> Video ready: /content/final_video/final-video0.mp4 \n",
            "\n",
            "59\n",
            "downloading img no  0\n",
            "downloading img no  1\n",
            "downloading img no  2\n",
            "downloading img no  3\n",
            "downloading img no  4\n",
            "downloading img no  5\n",
            "downloading img no  6\n",
            "downloading img no  7\n",
            "downloading img no  8\n",
            "downloading img no  9\n",
            "download 10 images\n",
            "[MoviePy] >>>> Building video /content/video/video1.mp4\n",
            "[MoviePy] Writing video /content/video/video1.mp4\n"
          ],
          "name": "stdout"
        },
        {
          "output_type": "stream",
          "text": [
            " 83%|████████▎ | 5/6 [00:00<00:00, 37.07it/s]\n"
          ],
          "name": "stderr"
        },
        {
          "output_type": "stream",
          "text": [
            "[MoviePy] Done.\n",
            "[MoviePy] >>>> Video ready: /content/video/video1.mp4 \n",
            "\n",
            "[MoviePy] >>>> Building video /content/final_video/final-video1.mp4\n",
            "[MoviePy] Writing audio in final-video1TEMP_MPY_wvf_snd.mp4\n"
          ],
          "name": "stdout"
        },
        {
          "output_type": "stream",
          "text": [
            "100%|██████████| 978/978 [00:02<00:00, 366.96it/s]"
          ],
          "name": "stderr"
        },
        {
          "output_type": "stream",
          "text": [
            "[MoviePy] Done.\n",
            "[MoviePy] Writing video /content/final_video/final-video1.mp4\n"
          ],
          "name": "stdout"
        },
        {
          "output_type": "stream",
          "text": [
            "\n",
            " 83%|████████▎ | 5/6 [00:00<00:00, 119.49it/s]\n"
          ],
          "name": "stderr"
        },
        {
          "output_type": "stream",
          "text": [
            "[MoviePy] Done.\n",
            "[MoviePy] >>>> Video ready: /content/final_video/final-video1.mp4 \n",
            "\n",
            "[MoviePy] >>>> Building video /content/final_video/final-video1.mp4\n",
            "[MoviePy] Writing audio in final-video1TEMP_MPY_wvf_snd.mp4\n"
          ],
          "name": "stdout"
        },
        {
          "output_type": "stream",
          "text": [
            "100%|██████████| 979/979 [00:02<00:00, 344.84it/s]"
          ],
          "name": "stderr"
        },
        {
          "output_type": "stream",
          "text": [
            "[MoviePy] Done.\n",
            "[MoviePy] Writing video /content/final_video/final-video1.mp4\n"
          ],
          "name": "stdout"
        },
        {
          "output_type": "stream",
          "text": [
            "\n",
            "100%|██████████| 12/12 [00:00<00:00, 31.07it/s]\n"
          ],
          "name": "stderr"
        },
        {
          "output_type": "stream",
          "text": [
            "[MoviePy] Done.\n",
            "[MoviePy] >>>> Video ready: /content/final_video/final-video1.mp4 \n",
            "\n",
            "69\n",
            "downloading img no  0\n",
            "downloading img no  1\n",
            "downloading img no  2\n",
            "downloading img no  3\n",
            "downloading img no  4\n",
            "downloading img no  5\n",
            "downloading img no  6\n",
            "downloading img no  7\n",
            "downloading img no  8\n",
            "downloading img no  9\n",
            "download 10 images\n",
            "resize error\n",
            "resize error\n",
            "[MoviePy] >>>> Building video /content/video/video2.mp4\n",
            "[MoviePy] Writing video /content/video/video2.mp4\n"
          ],
          "name": "stdout"
        },
        {
          "output_type": "stream",
          "text": [
            " 83%|████████▎ | 5/6 [00:00<00:00, 36.24it/s]\n"
          ],
          "name": "stderr"
        },
        {
          "output_type": "stream",
          "text": [
            "[MoviePy] Done.\n",
            "[MoviePy] >>>> Video ready: /content/video/video2.mp4 \n",
            "\n",
            "[MoviePy] >>>> Building video /content/final_video/final-video2.mp4\n",
            "[MoviePy] Writing audio in final-video2TEMP_MPY_wvf_snd.mp4\n"
          ],
          "name": "stdout"
        },
        {
          "output_type": "stream",
          "text": [
            "100%|██████████| 797/797 [00:02<00:00, 356.22it/s]"
          ],
          "name": "stderr"
        },
        {
          "output_type": "stream",
          "text": [
            "[MoviePy] Done.\n",
            "[MoviePy] Writing video /content/final_video/final-video2.mp4\n"
          ],
          "name": "stdout"
        },
        {
          "output_type": "stream",
          "text": [
            "\n",
            " 83%|████████▎ | 5/6 [00:00<00:00, 71.68it/s]\n"
          ],
          "name": "stderr"
        },
        {
          "output_type": "stream",
          "text": [
            "[MoviePy] Done.\n",
            "[MoviePy] >>>> Video ready: /content/final_video/final-video2.mp4 \n",
            "\n",
            "[MoviePy] >>>> Building video /content/final_video/final-video2.mp4\n",
            "[MoviePy] Writing audio in final-video2TEMP_MPY_wvf_snd.mp4\n"
          ],
          "name": "stdout"
        },
        {
          "output_type": "stream",
          "text": [
            "100%|██████████| 797/797 [00:02<00:00, 337.42it/s]\n"
          ],
          "name": "stderr"
        },
        {
          "output_type": "stream",
          "text": [
            "[MoviePy] Done.\n",
            "[MoviePy] Writing video /content/final_video/final-video2.mp4\n"
          ],
          "name": "stdout"
        },
        {
          "output_type": "stream",
          "text": [
            "100%|██████████| 10/10 [00:00<00:00, 31.61it/s]\n"
          ],
          "name": "stderr"
        },
        {
          "output_type": "stream",
          "text": [
            "[MoviePy] Done.\n",
            "[MoviePy] >>>> Video ready: /content/final_video/final-video2.mp4 \n",
            "\n",
            "91\n",
            "downloading img no  0\n",
            "downloading img no  1\n",
            "downloading img no  2\n",
            "downloading img no  3\n",
            "downloading img no  4\n",
            "downloading img no  5\n",
            "downloading img no  6\n",
            "downloading img no  7\n",
            "downloading img no  8\n",
            "downloading img no  9\n",
            "download 10 images\n",
            "[MoviePy] >>>> Building video /content/video/video3.mp4\n",
            "[MoviePy] Writing video /content/video/video3.mp4\n"
          ],
          "name": "stdout"
        },
        {
          "output_type": "stream",
          "text": [
            " 83%|████████▎ | 5/6 [00:00<00:00, 42.07it/s]\n"
          ],
          "name": "stderr"
        },
        {
          "output_type": "stream",
          "text": [
            "[MoviePy] Done.\n",
            "[MoviePy] >>>> Video ready: /content/video/video3.mp4 \n",
            "\n",
            "[MoviePy] >>>> Building video /content/final_video/final-video3.mp4\n",
            "[MoviePy] Writing audio in final-video3TEMP_MPY_wvf_snd.mp4\n"
          ],
          "name": "stdout"
        },
        {
          "output_type": "stream",
          "text": [
            "100%|██████████| 851/851 [00:02<00:00, 357.43it/s]"
          ],
          "name": "stderr"
        },
        {
          "output_type": "stream",
          "text": [
            "[MoviePy] Done.\n",
            "[MoviePy] Writing video /content/final_video/final-video3.mp4\n"
          ],
          "name": "stdout"
        },
        {
          "output_type": "stream",
          "text": [
            "\n",
            " 83%|████████▎ | 5/6 [00:00<00:00, 96.18it/s]\n"
          ],
          "name": "stderr"
        },
        {
          "output_type": "stream",
          "text": [
            "[MoviePy] Done.\n",
            "[MoviePy] >>>> Video ready: /content/final_video/final-video3.mp4 \n",
            "\n",
            "[MoviePy] >>>> Building video /content/final_video/final-video3.mp4\n",
            "[MoviePy] Writing audio in final-video3TEMP_MPY_wvf_snd.mp4\n"
          ],
          "name": "stdout"
        },
        {
          "output_type": "stream",
          "text": [
            "100%|██████████| 851/851 [00:02<00:00, 362.12it/s]"
          ],
          "name": "stderr"
        },
        {
          "output_type": "stream",
          "text": [
            "[MoviePy] Done.\n",
            "[MoviePy] Writing video /content/final_video/final-video3.mp4\n"
          ],
          "name": "stdout"
        },
        {
          "output_type": "stream",
          "text": [
            "\n",
            "100%|██████████| 10/10 [00:00<00:00, 30.13it/s]\n"
          ],
          "name": "stderr"
        },
        {
          "output_type": "stream",
          "text": [
            "[MoviePy] Done.\n",
            "[MoviePy] >>>> Video ready: /content/final_video/final-video3.mp4 \n",
            "\n",
            "79\n",
            "downloading img no  0\n",
            "downloading img no  1\n",
            "downloading img no  2\n",
            "downloading img no  3\n",
            "downloading img no  4\n",
            "downloading img no  5\n",
            "downloading img no  6\n",
            "downloading img no  7\n",
            "downloading img no  8\n",
            "downloading img no  9\n",
            "download 10 images\n",
            "[MoviePy] >>>> Building video /content/video/video4.mp4\n",
            "[MoviePy] Writing video /content/video/video4.mp4\n"
          ],
          "name": "stdout"
        },
        {
          "output_type": "stream",
          "text": [
            " 83%|████████▎ | 5/6 [00:00<00:00, 43.04it/s]\n"
          ],
          "name": "stderr"
        },
        {
          "output_type": "stream",
          "text": [
            "[MoviePy] Done.\n",
            "[MoviePy] >>>> Video ready: /content/video/video4.mp4 \n",
            "\n",
            "[MoviePy] >>>> Building video /content/final_video/final-video4.mp4\n",
            "[MoviePy] Writing audio in final-video4TEMP_MPY_wvf_snd.mp4\n"
          ],
          "name": "stdout"
        },
        {
          "output_type": "stream",
          "text": [
            "100%|██████████| 923/923 [00:02<00:00, 351.73it/s]\n"
          ],
          "name": "stderr"
        },
        {
          "output_type": "stream",
          "text": [
            "[MoviePy] Done.\n",
            "[MoviePy] Writing video /content/final_video/final-video4.mp4\n"
          ],
          "name": "stdout"
        },
        {
          "output_type": "stream",
          "text": [
            " 83%|████████▎ | 5/6 [00:00<00:00, 104.41it/s]\n"
          ],
          "name": "stderr"
        },
        {
          "output_type": "stream",
          "text": [
            "[MoviePy] Done.\n",
            "[MoviePy] >>>> Video ready: /content/final_video/final-video4.mp4 \n",
            "\n",
            "[MoviePy] >>>> Building video /content/final_video/final-video4.mp4\n",
            "[MoviePy] Writing audio in final-video4TEMP_MPY_wvf_snd.mp4\n"
          ],
          "name": "stdout"
        },
        {
          "output_type": "stream",
          "text": [
            "100%|██████████| 924/924 [00:02<00:00, 362.12it/s]"
          ],
          "name": "stderr"
        },
        {
          "output_type": "stream",
          "text": [
            "[MoviePy] Done.\n",
            "[MoviePy] Writing video /content/final_video/final-video4.mp4\n"
          ],
          "name": "stdout"
        },
        {
          "output_type": "stream",
          "text": [
            "\n",
            "100%|██████████| 11/11 [00:00<00:00, 32.89it/s]\n"
          ],
          "name": "stderr"
        },
        {
          "output_type": "stream",
          "text": [
            "[MoviePy] Done.\n",
            "[MoviePy] >>>> Video ready: /content/final_video/final-video4.mp4 \n",
            "\n",
            "[MoviePy] >>>> Building video /content/output/US_e_final-video.mp4\n",
            "[MoviePy] Writing audio in US_e_final-videoTEMP_MPY_wvf_snd.mp4\n"
          ],
          "name": "stdout"
        },
        {
          "output_type": "stream",
          "text": [
            "100%|██████████| 4852/4852 [00:13<00:00, 370.37it/s]"
          ],
          "name": "stderr"
        },
        {
          "output_type": "stream",
          "text": [
            "[MoviePy] Done.\n",
            "[MoviePy] Writing video /content/output/US_e_final-video.mp4\n"
          ],
          "name": "stdout"
        },
        {
          "output_type": "stream",
          "text": [
            "\n",
            " 98%|█████████▊| 55/56 [00:00<00:00, 81.25it/s]\n"
          ],
          "name": "stderr"
        },
        {
          "output_type": "stream",
          "text": [
            "[MoviePy] Done.\n",
            "[MoviePy] >>>> Video ready: /content/output/US_e_final-video.mp4 \n",
            "\n",
            "45\n",
            "downloading img no  0\n",
            "downloading img no  1\n",
            "downloading img no  2\n",
            "downloading img no  3\n",
            "downloading img no  4\n",
            "downloading img no  5\n",
            "downloading img no  6\n",
            "downloading img no  7\n",
            "downloading img no  8\n",
            "downloading img no  9\n",
            "download 10 images\n",
            "resize error\n",
            "resize error\n",
            "resize error\n",
            "[MoviePy] >>>> Building video /content/video/video0.mp4\n",
            "[MoviePy] Writing video /content/video/video0.mp4\n"
          ],
          "name": "stdout"
        },
        {
          "output_type": "stream",
          "text": [
            " 83%|████████▎ | 5/6 [00:00<00:00, 41.22it/s]\n"
          ],
          "name": "stderr"
        },
        {
          "output_type": "stream",
          "text": [
            "[MoviePy] Done.\n",
            "[MoviePy] >>>> Video ready: /content/video/video0.mp4 \n",
            "\n",
            "[MoviePy] >>>> Building video /content/final_video/final-video0.mp4\n",
            "[MoviePy] Writing audio in final-video0TEMP_MPY_wvf_snd.mp4\n"
          ],
          "name": "stdout"
        },
        {
          "output_type": "stream",
          "text": [
            "100%|██████████| 1025/1025 [00:03<00:00, 340.98it/s]"
          ],
          "name": "stderr"
        },
        {
          "output_type": "stream",
          "text": [
            "[MoviePy] Done.\n",
            "[MoviePy] Writing video /content/final_video/final-video0.mp4\n"
          ],
          "name": "stdout"
        },
        {
          "output_type": "stream",
          "text": [
            "\n",
            " 83%|████████▎ | 5/6 [00:00<00:00, 97.74it/s]\n"
          ],
          "name": "stderr"
        },
        {
          "output_type": "stream",
          "text": [
            "[MoviePy] Done.\n",
            "[MoviePy] >>>> Video ready: /content/final_video/final-video0.mp4 \n",
            "\n",
            "[MoviePy] >>>> Building video /content/final_video/final-video0.mp4\n",
            "[MoviePy] Writing audio in final-video0TEMP_MPY_wvf_snd.mp4\n"
          ],
          "name": "stdout"
        },
        {
          "output_type": "stream",
          "text": [
            "100%|██████████| 1025/1025 [00:02<00:00, 346.80it/s]"
          ],
          "name": "stderr"
        },
        {
          "output_type": "stream",
          "text": [
            "[MoviePy] Done.\n",
            "[MoviePy] Writing video /content/final_video/final-video0.mp4\n"
          ],
          "name": "stdout"
        },
        {
          "output_type": "stream",
          "text": [
            "\n",
            "100%|██████████| 12/12 [00:00<00:00, 34.83it/s]\n"
          ],
          "name": "stderr"
        },
        {
          "output_type": "stream",
          "text": [
            "[MoviePy] Done.\n",
            "[MoviePy] >>>> Video ready: /content/final_video/final-video0.mp4 \n",
            "\n",
            "68\n",
            "downloading img no  0\n",
            "downloading img no  1\n",
            "downloading img no  2\n",
            "downloading img no  3\n",
            "downloading img no  4\n",
            "downloading img no  5\n",
            "downloading img no  6\n",
            "downloading img no  7\n",
            "downloading img no  8\n",
            "downloading img no  9\n",
            "download 10 images\n",
            "resize error\n",
            "[MoviePy] >>>> Building video /content/video/video1.mp4\n",
            "[MoviePy] Writing video /content/video/video1.mp4\n"
          ],
          "name": "stdout"
        },
        {
          "output_type": "stream",
          "text": [
            " 83%|████████▎ | 5/6 [00:00<00:00, 39.69it/s]\n"
          ],
          "name": "stderr"
        },
        {
          "output_type": "stream",
          "text": [
            "[MoviePy] Done.\n",
            "[MoviePy] >>>> Video ready: /content/video/video1.mp4 \n",
            "\n",
            "[MoviePy] >>>> Building video /content/final_video/final-video1.mp4\n",
            "[MoviePy] Writing audio in final-video1TEMP_MPY_wvf_snd.mp4\n"
          ],
          "name": "stdout"
        },
        {
          "output_type": "stream",
          "text": [
            "100%|██████████| 1025/1025 [00:02<00:00, 374.26it/s]"
          ],
          "name": "stderr"
        },
        {
          "output_type": "stream",
          "text": [
            "[MoviePy] Done.\n",
            "[MoviePy] Writing video /content/final_video/final-video1.mp4\n"
          ],
          "name": "stdout"
        },
        {
          "output_type": "stream",
          "text": [
            "\n",
            " 83%|████████▎ | 5/6 [00:00<00:00, 94.42it/s]\n"
          ],
          "name": "stderr"
        },
        {
          "output_type": "stream",
          "text": [
            "[MoviePy] Done.\n",
            "[MoviePy] >>>> Video ready: /content/final_video/final-video1.mp4 \n",
            "\n",
            "[MoviePy] >>>> Building video /content/final_video/final-video1.mp4\n",
            "[MoviePy] Writing audio in final-video1TEMP_MPY_wvf_snd.mp4\n"
          ],
          "name": "stdout"
        },
        {
          "output_type": "stream",
          "text": [
            "100%|██████████| 1025/1025 [00:02<00:00, 375.37it/s]"
          ],
          "name": "stderr"
        },
        {
          "output_type": "stream",
          "text": [
            "[MoviePy] Done.\n"
          ],
          "name": "stdout"
        },
        {
          "output_type": "stream",
          "text": [
            "\n"
          ],
          "name": "stderr"
        },
        {
          "output_type": "stream",
          "text": [
            "[MoviePy] Writing video /content/final_video/final-video1.mp4\n"
          ],
          "name": "stdout"
        },
        {
          "output_type": "stream",
          "text": [
            "100%|██████████| 12/12 [00:00<00:00, 34.47it/s]\n"
          ],
          "name": "stderr"
        },
        {
          "output_type": "stream",
          "text": [
            "[MoviePy] Done.\n",
            "[MoviePy] >>>> Video ready: /content/final_video/final-video1.mp4 \n",
            "\n",
            "28\n",
            "downloading img no  0\n",
            "downloading img no  1\n",
            "downloading img no  2\n",
            "downloading img no  3\n",
            "downloading img no  4\n",
            "downloading img no  5\n",
            "downloading img no  6\n",
            "downloading img no  7\n",
            "downloading img no  8\n",
            "downloading img no  9\n",
            "download 10 images\n",
            "resize error\n",
            "resize error\n",
            "resize error\n",
            "resize error\n",
            "[MoviePy] >>>> Building video /content/video/video2.mp4\n",
            "[MoviePy] Writing video /content/video/video2.mp4\n"
          ],
          "name": "stdout"
        },
        {
          "output_type": "stream",
          "text": [
            " 83%|████████▎ | 5/6 [00:00<00:00, 40.19it/s]\n"
          ],
          "name": "stderr"
        },
        {
          "output_type": "stream",
          "text": [
            "[MoviePy] Done.\n",
            "[MoviePy] >>>> Video ready: /content/video/video2.mp4 \n",
            "\n",
            "[MoviePy] >>>> Building video /content/final_video/final-video2.mp4\n",
            "[MoviePy] Writing audio in final-video2TEMP_MPY_wvf_snd.mp4\n"
          ],
          "name": "stdout"
        },
        {
          "output_type": "stream",
          "text": [
            "100%|██████████| 1025/1025 [00:02<00:00, 349.16it/s]"
          ],
          "name": "stderr"
        },
        {
          "output_type": "stream",
          "text": [
            "[MoviePy] Done.\n",
            "[MoviePy] Writing video /content/final_video/final-video2.mp4\n"
          ],
          "name": "stdout"
        },
        {
          "output_type": "stream",
          "text": [
            "\n",
            " 83%|████████▎ | 5/6 [00:00<00:00, 101.39it/s]\n"
          ],
          "name": "stderr"
        },
        {
          "output_type": "stream",
          "text": [
            "[MoviePy] Done.\n",
            "[MoviePy] >>>> Video ready: /content/final_video/final-video2.mp4 \n",
            "\n",
            "[MoviePy] >>>> Building video /content/final_video/final-video2.mp4\n",
            "[MoviePy] Writing audio in final-video2TEMP_MPY_wvf_snd.mp4\n"
          ],
          "name": "stdout"
        },
        {
          "output_type": "stream",
          "text": [
            "100%|██████████| 1025/1025 [00:02<00:00, 348.79it/s]"
          ],
          "name": "stderr"
        },
        {
          "output_type": "stream",
          "text": [
            "[MoviePy] Done.\n",
            "[MoviePy] Writing video /content/final_video/final-video2.mp4\n"
          ],
          "name": "stdout"
        },
        {
          "output_type": "stream",
          "text": [
            "\n",
            "100%|██████████| 12/12 [00:00<00:00, 33.46it/s]\n"
          ],
          "name": "stderr"
        },
        {
          "output_type": "stream",
          "text": [
            "[MoviePy] Done.\n",
            "[MoviePy] >>>> Video ready: /content/final_video/final-video2.mp4 \n",
            "\n",
            "87\n",
            "downloading img no  0\n",
            "downloading img no  1\n",
            "downloading img no  2\n",
            "downloading img no  3\n",
            "downloading img no  4\n",
            "downloading img no  5\n",
            "downloading img no  6\n",
            "downloading img no  7\n",
            "downloading img no  8\n",
            "downloading img no  9\n",
            "download 10 images\n",
            "resize error\n",
            "resize error\n",
            "resize error\n",
            "[MoviePy] >>>> Building video /content/video/video3.mp4\n",
            "[MoviePy] Writing video /content/video/video3.mp4\n"
          ],
          "name": "stdout"
        },
        {
          "output_type": "stream",
          "text": [
            " 83%|████████▎ | 5/6 [00:00<00:00, 35.46it/s]\n"
          ],
          "name": "stderr"
        },
        {
          "output_type": "stream",
          "text": [
            "[MoviePy] Done.\n",
            "[MoviePy] >>>> Video ready: /content/video/video3.mp4 \n",
            "\n",
            "[MoviePy] >>>> Building video /content/final_video/final-video3.mp4\n",
            "[MoviePy] Writing audio in final-video3TEMP_MPY_wvf_snd.mp4\n"
          ],
          "name": "stdout"
        },
        {
          "output_type": "stream",
          "text": [
            "100%|██████████| 1025/1025 [00:02<00:00, 358.91it/s]"
          ],
          "name": "stderr"
        },
        {
          "output_type": "stream",
          "text": [
            "[MoviePy] Done.\n",
            "[MoviePy] Writing video /content/final_video/final-video3.mp4\n"
          ],
          "name": "stdout"
        },
        {
          "output_type": "stream",
          "text": [
            "\n",
            " 83%|████████▎ | 5/6 [00:00<00:00, 79.02it/s]\n"
          ],
          "name": "stderr"
        },
        {
          "output_type": "stream",
          "text": [
            "[MoviePy] Done.\n",
            "[MoviePy] >>>> Video ready: /content/final_video/final-video3.mp4 \n",
            "\n",
            "[MoviePy] >>>> Building video /content/final_video/final-video3.mp4\n",
            "[MoviePy] Writing audio in final-video3TEMP_MPY_wvf_snd.mp4\n"
          ],
          "name": "stdout"
        },
        {
          "output_type": "stream",
          "text": [
            "100%|██████████| 1025/1025 [00:02<00:00, 351.51it/s]"
          ],
          "name": "stderr"
        },
        {
          "output_type": "stream",
          "text": [
            "[MoviePy] Done.\n",
            "[MoviePy] Writing video /content/final_video/final-video3.mp4\n"
          ],
          "name": "stdout"
        },
        {
          "output_type": "stream",
          "text": [
            "\n",
            "100%|██████████| 12/12 [00:00<00:00, 34.31it/s]\n"
          ],
          "name": "stderr"
        },
        {
          "output_type": "stream",
          "text": [
            "[MoviePy] Done.\n",
            "[MoviePy] >>>> Video ready: /content/final_video/final-video3.mp4 \n",
            "\n",
            "40\n",
            "downloading img no  0\n",
            "downloading img no  1\n",
            "downloading img no  2\n",
            "downloading img no  3\n",
            "downloading img no  4\n",
            "downloading img no  5\n",
            "downloading img no  6\n",
            "downloading img no  7\n",
            "downloading img no  8\n",
            "downloading img no  9\n",
            "download 10 images\n",
            "resize error\n",
            "resize error\n",
            "resize error\n",
            "resize error\n",
            "resize error\n",
            "[MoviePy] >>>> Building video /content/video/video4.mp4\n",
            "[MoviePy] Writing video /content/video/video4.mp4\n"
          ],
          "name": "stdout"
        },
        {
          "output_type": "stream",
          "text": [
            " 83%|████████▎ | 5/6 [00:00<00:00, 34.79it/s]\n"
          ],
          "name": "stderr"
        },
        {
          "output_type": "stream",
          "text": [
            "[MoviePy] Done.\n",
            "[MoviePy] >>>> Video ready: /content/video/video4.mp4 \n",
            "\n",
            "[MoviePy] >>>> Building video /content/final_video/final-video4.mp4\n",
            "[MoviePy] Writing audio in final-video4TEMP_MPY_wvf_snd.mp4\n"
          ],
          "name": "stdout"
        },
        {
          "output_type": "stream",
          "text": [
            "100%|██████████| 1025/1025 [00:02<00:00, 353.93it/s]"
          ],
          "name": "stderr"
        },
        {
          "output_type": "stream",
          "text": [
            "[MoviePy] Done.\n",
            "[MoviePy] Writing video /content/final_video/final-video4.mp4\n"
          ],
          "name": "stdout"
        },
        {
          "output_type": "stream",
          "text": [
            "\n",
            " 83%|████████▎ | 5/6 [00:00<00:00, 91.45it/s]\n"
          ],
          "name": "stderr"
        },
        {
          "output_type": "stream",
          "text": [
            "[MoviePy] Done.\n",
            "[MoviePy] >>>> Video ready: /content/final_video/final-video4.mp4 \n",
            "\n",
            "[MoviePy] >>>> Building video /content/final_video/final-video4.mp4\n",
            "[MoviePy] Writing audio in final-video4TEMP_MPY_wvf_snd.mp4\n"
          ],
          "name": "stdout"
        },
        {
          "output_type": "stream",
          "text": [
            "100%|██████████| 1025/1025 [00:03<00:00, 337.39it/s]"
          ],
          "name": "stderr"
        },
        {
          "output_type": "stream",
          "text": [
            "[MoviePy] Done.\n",
            "[MoviePy] Writing video /content/final_video/final-video4.mp4\n"
          ],
          "name": "stdout"
        },
        {
          "output_type": "stream",
          "text": [
            "\n",
            "100%|██████████| 12/12 [00:00<00:00, 34.42it/s]\n"
          ],
          "name": "stderr"
        },
        {
          "output_type": "stream",
          "text": [
            "[MoviePy] Done.\n",
            "[MoviePy] >>>> Video ready: /content/final_video/final-video4.mp4 \n",
            "\n",
            "[MoviePy] >>>> Building video /content/output/CA_b_final-video.mp4\n",
            "[MoviePy] Writing audio in CA_b_final-videoTEMP_MPY_wvf_snd.mp4\n"
          ],
          "name": "stdout"
        },
        {
          "output_type": "stream",
          "text": [
            "100%|██████████| 5293/5293 [00:14<00:00, 368.32it/s]"
          ],
          "name": "stderr"
        },
        {
          "output_type": "stream",
          "text": [
            "[MoviePy] Done.\n",
            "[MoviePy] Writing video /content/output/CA_b_final-video.mp4\n"
          ],
          "name": "stdout"
        },
        {
          "output_type": "stream",
          "text": [
            "\n",
            " 98%|█████████▊| 60/61 [00:01<00:00, 43.66it/s]\n"
          ],
          "name": "stderr"
        },
        {
          "output_type": "stream",
          "text": [
            "[MoviePy] Done.\n",
            "[MoviePy] >>>> Video ready: /content/output/CA_b_final-video.mp4 \n",
            "\n",
            "72\n",
            "downloading img no  0\n",
            "downloading img no  1\n",
            "downloading img no  2\n",
            "downloading img no  3\n",
            "downloading img no  4\n",
            "downloading img no  5\n",
            "downloading img no  6\n",
            "downloading img no  7\n",
            "downloading img no  8\n",
            "downloading img no  9\n",
            "download 10 images\n",
            "resize error\n",
            "resize error\n",
            "resize error\n",
            "resize error\n",
            "[MoviePy] >>>> Building video /content/video/video0.mp4\n",
            "[MoviePy] Writing video /content/video/video0.mp4\n"
          ],
          "name": "stdout"
        },
        {
          "output_type": "stream",
          "text": [
            " 83%|████████▎ | 5/6 [00:00<00:00, 32.96it/s]\n"
          ],
          "name": "stderr"
        },
        {
          "output_type": "stream",
          "text": [
            "[MoviePy] Done.\n",
            "[MoviePy] >>>> Video ready: /content/video/video0.mp4 \n",
            "\n",
            "[MoviePy] >>>> Building video /content/final_video/final-video0.mp4\n",
            "[MoviePy] Writing audio in final-video0TEMP_MPY_wvf_snd.mp4\n"
          ],
          "name": "stdout"
        },
        {
          "output_type": "stream",
          "text": [
            "100%|██████████| 927/927 [00:02<00:00, 363.99it/s]"
          ],
          "name": "stderr"
        },
        {
          "output_type": "stream",
          "text": [
            "[MoviePy] Done.\n",
            "[MoviePy] Writing video /content/final_video/final-video0.mp4\n"
          ],
          "name": "stdout"
        },
        {
          "output_type": "stream",
          "text": [
            "\n",
            " 83%|████████▎ | 5/6 [00:00<00:00, 99.41it/s]\n"
          ],
          "name": "stderr"
        },
        {
          "output_type": "stream",
          "text": [
            "[MoviePy] Done.\n",
            "[MoviePy] >>>> Video ready: /content/final_video/final-video0.mp4 \n",
            "\n",
            "[MoviePy] >>>> Building video /content/final_video/final-video0.mp4\n",
            "[MoviePy] Writing audio in final-video0TEMP_MPY_wvf_snd.mp4\n"
          ],
          "name": "stdout"
        },
        {
          "output_type": "stream",
          "text": [
            "100%|██████████| 927/927 [00:02<00:00, 351.13it/s]"
          ],
          "name": "stderr"
        },
        {
          "output_type": "stream",
          "text": [
            "[MoviePy] Done.\n",
            "[MoviePy] Writing video /content/final_video/final-video0.mp4\n"
          ],
          "name": "stdout"
        },
        {
          "output_type": "stream",
          "text": [
            "\n",
            "100%|██████████| 11/11 [00:00<00:00, 38.87it/s]\n"
          ],
          "name": "stderr"
        },
        {
          "output_type": "stream",
          "text": [
            "[MoviePy] Done.\n",
            "[MoviePy] >>>> Video ready: /content/final_video/final-video0.mp4 \n",
            "\n",
            "66\n",
            "downloading img no  0\n",
            "downloading img no  1\n",
            "downloading img no  2\n",
            "downloading img no  3\n",
            "downloading img no  4\n",
            "downloading img no  5\n",
            "downloading img no  6\n",
            "downloading img no  7\n",
            "downloading img no  8\n",
            "downloading img no  9\n",
            "download 10 images\n",
            "[MoviePy] >>>> Building video /content/video/video1.mp4\n",
            "[MoviePy] Writing video /content/video/video1.mp4\n"
          ],
          "name": "stdout"
        },
        {
          "output_type": "stream",
          "text": [
            " 83%|████████▎ | 5/6 [00:00<00:00, 40.06it/s]\n"
          ],
          "name": "stderr"
        },
        {
          "output_type": "stream",
          "text": [
            "[MoviePy] Done.\n",
            "[MoviePy] >>>> Video ready: /content/video/video1.mp4 \n",
            "\n",
            "[MoviePy] >>>> Building video /content/final_video/final-video1.mp4\n",
            "[MoviePy] Writing audio in final-video1TEMP_MPY_wvf_snd.mp4\n"
          ],
          "name": "stdout"
        },
        {
          "output_type": "stream",
          "text": [
            "100%|██████████| 934/934 [00:02<00:00, 341.03it/s]"
          ],
          "name": "stderr"
        },
        {
          "output_type": "stream",
          "text": [
            "[MoviePy] Done.\n",
            "[MoviePy] Writing video /content/final_video/final-video1.mp4\n"
          ],
          "name": "stdout"
        },
        {
          "output_type": "stream",
          "text": [
            "\n",
            " 83%|████████▎ | 5/6 [00:00<00:00, 110.37it/s]\n"
          ],
          "name": "stderr"
        },
        {
          "output_type": "stream",
          "text": [
            "[MoviePy] Done.\n",
            "[MoviePy] >>>> Video ready: /content/final_video/final-video1.mp4 \n",
            "\n",
            "[MoviePy] >>>> Building video /content/final_video/final-video1.mp4\n",
            "[MoviePy] Writing audio in final-video1TEMP_MPY_wvf_snd.mp4\n"
          ],
          "name": "stdout"
        },
        {
          "output_type": "stream",
          "text": [
            "100%|██████████| 935/935 [00:02<00:00, 335.99it/s]\n"
          ],
          "name": "stderr"
        },
        {
          "output_type": "stream",
          "text": [
            "[MoviePy] Done.\n",
            "[MoviePy] Writing video /content/final_video/final-video1.mp4\n"
          ],
          "name": "stdout"
        },
        {
          "output_type": "stream",
          "text": [
            "100%|██████████| 11/11 [00:00<00:00, 35.25it/s]\n"
          ],
          "name": "stderr"
        },
        {
          "output_type": "stream",
          "text": [
            "[MoviePy] Done.\n",
            "[MoviePy] >>>> Video ready: /content/final_video/final-video1.mp4 \n",
            "\n",
            "70\n",
            "downloading img no  0\n",
            "downloading img no  1\n",
            "downloading img no  2\n",
            "downloading img no  3\n",
            "downloading img no  4\n",
            "downloading img no  5\n",
            "downloading img no  6\n",
            "downloading img no  7\n",
            "downloading img no  8\n",
            "downloading img no  9\n",
            "download 10 images\n",
            "resize error\n",
            "resize error\n",
            "resize error\n",
            "resize error\n",
            "resize error\n",
            "resize error\n",
            "resize error\n",
            "resize error\n",
            "resize error\n",
            "resize error\n",
            "No Images Found No Images Found No Images Found No Images Found No Images Found \n",
            "85\n",
            "downloading img no  0\n",
            "downloading img no  1\n",
            "downloading img no  2\n",
            "downloading img no  3\n",
            "downloading img no  4\n",
            "downloading img no  5\n",
            "downloading img no  6\n",
            "downloading img no  7\n",
            "downloading img no  8\n",
            "downloading img no  9\n",
            "download 10 images\n",
            "resize error\n",
            "resize error\n",
            "resize error\n",
            "[MoviePy] >>>> Building video /content/video/video3.mp4\n",
            "[MoviePy] Writing video /content/video/video3.mp4\n"
          ],
          "name": "stdout"
        },
        {
          "output_type": "stream",
          "text": [
            " 83%|████████▎ | 5/6 [00:00<00:00, 39.35it/s]\n"
          ],
          "name": "stderr"
        },
        {
          "output_type": "stream",
          "text": [
            "[MoviePy] Done.\n",
            "[MoviePy] >>>> Video ready: /content/video/video3.mp4 \n",
            "\n",
            "[MoviePy] >>>> Building video /content/final_video/final-video3.mp4\n",
            "[MoviePy] Writing audio in final-video3TEMP_MPY_wvf_snd.mp4\n"
          ],
          "name": "stdout"
        },
        {
          "output_type": "stream",
          "text": [
            "100%|██████████| 1025/1025 [00:02<00:00, 360.65it/s]"
          ],
          "name": "stderr"
        },
        {
          "output_type": "stream",
          "text": [
            "[MoviePy] Done.\n",
            "[MoviePy] Writing video /content/final_video/final-video3.mp4\n"
          ],
          "name": "stdout"
        },
        {
          "output_type": "stream",
          "text": [
            "\n",
            " 83%|████████▎ | 5/6 [00:00<00:00, 103.74it/s]\n"
          ],
          "name": "stderr"
        },
        {
          "output_type": "stream",
          "text": [
            "[MoviePy] Done.\n",
            "[MoviePy] >>>> Video ready: /content/final_video/final-video3.mp4 \n",
            "\n",
            "[MoviePy] >>>> Building video /content/final_video/final-video3.mp4\n",
            "[MoviePy] Writing audio in final-video3TEMP_MPY_wvf_snd.mp4\n"
          ],
          "name": "stdout"
        },
        {
          "output_type": "stream",
          "text": [
            "100%|██████████| 1025/1025 [00:02<00:00, 346.85it/s]"
          ],
          "name": "stderr"
        },
        {
          "output_type": "stream",
          "text": [
            "[MoviePy] Done.\n",
            "[MoviePy] Writing video /content/final_video/final-video3.mp4\n"
          ],
          "name": "stdout"
        },
        {
          "output_type": "stream",
          "text": [
            "\n",
            "100%|██████████| 12/12 [00:00<00:00, 36.95it/s]\n"
          ],
          "name": "stderr"
        },
        {
          "output_type": "stream",
          "text": [
            "[MoviePy] Done.\n",
            "[MoviePy] >>>> Video ready: /content/final_video/final-video3.mp4 \n",
            "\n",
            "94\n",
            "downloading img no  0\n",
            "downloading img no  1\n",
            "downloading img no  2\n",
            "downloading img no  3\n",
            "downloading img no  4\n",
            "downloading img no  5\n",
            "downloading img no  6\n",
            "downloading img no  7\n",
            "downloading img no  8\n",
            "downloading img no  9\n",
            "download 10 images\n",
            "resize error\n",
            "[MoviePy] >>>> Building video /content/video/video4.mp4\n",
            "[MoviePy] Writing video /content/video/video4.mp4\n"
          ],
          "name": "stdout"
        },
        {
          "output_type": "stream",
          "text": [
            " 83%|████████▎ | 5/6 [00:00<00:00, 41.64it/s]\n"
          ],
          "name": "stderr"
        },
        {
          "output_type": "stream",
          "text": [
            "[MoviePy] Done.\n",
            "[MoviePy] >>>> Video ready: /content/video/video4.mp4 \n",
            "\n",
            "[MoviePy] >>>> Building video /content/final_video/final-video4.mp4\n",
            "[MoviePy] Writing audio in final-video4TEMP_MPY_wvf_snd.mp4\n"
          ],
          "name": "stdout"
        },
        {
          "output_type": "stream",
          "text": [
            "100%|██████████| 755/755 [00:02<00:00, 356.94it/s]"
          ],
          "name": "stderr"
        },
        {
          "output_type": "stream",
          "text": [
            "[MoviePy] Done.\n",
            "[MoviePy] Writing video /content/final_video/final-video4.mp4\n"
          ],
          "name": "stdout"
        },
        {
          "output_type": "stream",
          "text": [
            "\n",
            " 83%|████████▎ | 5/6 [00:00<00:00, 91.48it/s]\n"
          ],
          "name": "stderr"
        },
        {
          "output_type": "stream",
          "text": [
            "[MoviePy] Done.\n",
            "[MoviePy] >>>> Video ready: /content/final_video/final-video4.mp4 \n",
            "\n",
            "[MoviePy] >>>> Building video /content/final_video/final-video4.mp4\n",
            "[MoviePy] Writing audio in final-video4TEMP_MPY_wvf_snd.mp4\n"
          ],
          "name": "stdout"
        },
        {
          "output_type": "stream",
          "text": [
            "100%|██████████| 756/756 [00:02<00:00, 338.61it/s]"
          ],
          "name": "stderr"
        },
        {
          "output_type": "stream",
          "text": [
            "[MoviePy] Done.\n",
            "[MoviePy] Writing video /content/final_video/final-video4.mp4\n"
          ],
          "name": "stdout"
        },
        {
          "output_type": "stream",
          "text": [
            "\n",
            "100%|██████████| 9/9 [00:00<00:00, 34.38it/s]\n"
          ],
          "name": "stderr"
        },
        {
          "output_type": "stream",
          "text": [
            "[MoviePy] Done.\n",
            "[MoviePy] >>>> Video ready: /content/final_video/final-video4.mp4 \n",
            "\n",
            "[MoviePy] >>>> Building video /content/output/CA_e_final-video.mp4\n",
            "[MoviePy] Writing audio in CA_e_final-videoTEMP_MPY_wvf_snd.mp4\n"
          ],
          "name": "stdout"
        },
        {
          "output_type": "stream",
          "text": [
            "100%|██████████| 3793/3793 [00:10<00:00, 351.63it/s]"
          ],
          "name": "stderr"
        },
        {
          "output_type": "stream",
          "text": [
            "[MoviePy] Done.\n",
            "[MoviePy] Writing video /content/output/CA_e_final-video.mp4\n"
          ],
          "name": "stdout"
        },
        {
          "output_type": "stream",
          "text": [
            "\n",
            " 98%|█████████▊| 43/44 [00:00<00:00, 88.33it/s]\n"
          ],
          "name": "stderr"
        },
        {
          "output_type": "stream",
          "text": [
            "[MoviePy] Done.\n",
            "[MoviePy] >>>> Video ready: /content/output/CA_e_final-video.mp4 \n",
            "\n"
          ],
          "name": "stdout"
        }
      ]
    },
    {
      "cell_type": "code",
      "metadata": {
        "id": "_eP6A9NY6cIm",
        "colab": {
          "base_uri": "https://localhost:8080/"
        },
        "outputId": "157f6828-d50d-4af6-c8df-b0c1d93d1e26"
      },
      "source": [
        ""
      ],
      "execution_count": 17,
      "outputs": [
        {
          "output_type": "execute_result",
          "data": {
            "text/plain": [
              "0    https://www.theglobeandmail.com/life/horoscope...\n",
              "1    https://www.theglobeandmail.com/life/horoscope...\n",
              "dtype: object"
            ]
          },
          "metadata": {
            "tags": []
          },
          "execution_count": 17
        }
      ]
    },
    {
      "cell_type": "code",
      "metadata": {
        "id": "GKUf1Xib1gQT"
      },
      "source": [
        ""
      ],
      "execution_count": null,
      "outputs": []
    }
  ]
}